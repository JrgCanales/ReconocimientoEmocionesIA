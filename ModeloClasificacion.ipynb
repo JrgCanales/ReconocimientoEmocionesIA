{
 "cells": [
  {
   "cell_type": "markdown",
   "metadata": {},
   "source": [
    "# Proyecto Inteligencia Artificial\n",
    "## 3er PAC 2025\n",
    "\n",
    "### Alumnos:\n",
    "- Rolando Josué Mejía Alemán\n",
    "- Jose Angel Amaya Nataren\n",
    "- Jorge Arturo Canales Ortega\n",
    "\n",
    "### Descripción:\n",
    "Desarrollo de un modelo de red neuronal diseñado para clasificar imágenes en dos categorías: feliz y triste.\n",
    "\n",
    "### Dataset:\n",
    "**Entrenamiento**: [EMODeCode 2000](https://www.kaggle.com/competitions/emodecode-2000)\n",
    "\n",
    "**Test**: [FER-2013](https://www.kaggle.com/datasets/msambare/fer2013)\n"
   ]
  },
  {
   "cell_type": "markdown",
   "metadata": {},
   "source": [
    "# Requisitos"
   ]
  },
  {
   "cell_type": "code",
   "execution_count": 220,
   "metadata": {},
   "outputs": [],
   "source": [
    "# pip list && python --version"
   ]
  },
  {
   "cell_type": "code",
   "execution_count": 221,
   "metadata": {
    "tags": []
   },
   "outputs": [
    {
     "name": "stdout",
     "output_type": "stream",
     "text": [
      "Defaulting to user installation because normal site-packages is not writeableNote: you may need to restart the kernel to use updated packages.\n",
      "\n",
      "Requirement already satisfied: tensorflow in c:\\users\\usuario\\appdata\\roaming\\python\\python311\\site-packages (2.18.0)\n",
      "Collecting tensorflow-gpu\n",
      "  Using cached tensorflow-gpu-2.12.0.tar.gz (2.6 kB)\n",
      "  Preparing metadata (setup.py): started\n",
      "  Preparing metadata (setup.py): finished with status 'done'\n",
      "Requirement already satisfied: opencv-python in c:\\users\\usuario\\appdata\\roaming\\python\\python311\\site-packages (4.10.0.84)\n",
      "Requirement already satisfied: matplotlib in c:\\users\\usuario\\appdata\\roaming\\python\\python311\\site-packages (3.9.3)\n",
      "Requirement already satisfied: pandas in c:\\users\\usuario\\appdata\\roaming\\python\\python311\\site-packages (2.2.3)\n",
      "Requirement already satisfied: tensorflow-intel==2.18.0 in c:\\users\\usuario\\appdata\\roaming\\python\\python311\\site-packages (from tensorflow) (2.18.0)\n",
      "Requirement already satisfied: absl-py>=1.0.0 in c:\\users\\usuario\\appdata\\roaming\\python\\python311\\site-packages (from tensorflow-intel==2.18.0->tensorflow) (2.1.0)\n",
      "Requirement already satisfied: astunparse>=1.6.0 in c:\\users\\usuario\\appdata\\roaming\\python\\python311\\site-packages (from tensorflow-intel==2.18.0->tensorflow) (1.6.3)\n",
      "Requirement already satisfied: flatbuffers>=24.3.25 in c:\\users\\usuario\\appdata\\roaming\\python\\python311\\site-packages (from tensorflow-intel==2.18.0->tensorflow) (24.3.25)\n",
      "Requirement already satisfied: gast!=0.5.0,!=0.5.1,!=0.5.2,>=0.2.1 in c:\\users\\usuario\\appdata\\roaming\\python\\python311\\site-packages (from tensorflow-intel==2.18.0->tensorflow) (0.6.0)\n",
      "Requirement already satisfied: google-pasta>=0.1.1 in c:\\users\\usuario\\appdata\\roaming\\python\\python311\\site-packages (from tensorflow-intel==2.18.0->tensorflow) (0.2.0)\n",
      "Requirement already satisfied: libclang>=13.0.0 in c:\\users\\usuario\\appdata\\roaming\\python\\python311\\site-packages (from tensorflow-intel==2.18.0->tensorflow) (18.1.1)\n",
      "Requirement already satisfied: opt-einsum>=2.3.2 in c:\\users\\usuario\\appdata\\roaming\\python\\python311\\site-packages (from tensorflow-intel==2.18.0->tensorflow) (3.4.0)\n",
      "Requirement already satisfied: packaging in c:\\users\\usuario\\appdata\\roaming\\python\\python311\\site-packages (from tensorflow-intel==2.18.0->tensorflow) (24.2)\n",
      "Requirement already satisfied: protobuf!=4.21.0,!=4.21.1,!=4.21.2,!=4.21.3,!=4.21.4,!=4.21.5,<6.0.0dev,>=3.20.3 in c:\\users\\usuario\\appdata\\roaming\\python\\python311\\site-packages (from tensorflow-intel==2.18.0->tensorflow) (5.29.0)\n",
      "Requirement already satisfied: requests<3,>=2.21.0 in c:\\users\\usuario\\appdata\\roaming\\python\\python311\\site-packages (from tensorflow-intel==2.18.0->tensorflow) (2.32.3)\n",
      "Requirement already satisfied: setuptools in c:\\program files\\python311\\lib\\site-packages (from tensorflow-intel==2.18.0->tensorflow) (65.5.0)\n",
      "Requirement already satisfied: six>=1.12.0 in c:\\users\\usuario\\appdata\\roaming\\python\\python311\\site-packages (from tensorflow-intel==2.18.0->tensorflow) (1.16.0)\n",
      "Requirement already satisfied: termcolor>=1.1.0 in c:\\users\\usuario\\appdata\\roaming\\python\\python311\\site-packages (from tensorflow-intel==2.18.0->tensorflow) (2.5.0)\n",
      "Requirement already satisfied: typing-extensions>=3.6.6 in c:\\users\\usuario\\appdata\\roaming\\python\\python311\\site-packages (from tensorflow-intel==2.18.0->tensorflow) (4.12.2)\n",
      "Requirement already satisfied: wrapt>=1.11.0 in c:\\users\\usuario\\appdata\\roaming\\python\\python311\\site-packages (from tensorflow-intel==2.18.0->tensorflow) (1.17.0)\n",
      "Requirement already satisfied: grpcio<2.0,>=1.24.3 in c:\\users\\usuario\\appdata\\roaming\\python\\python311\\site-packages (from tensorflow-intel==2.18.0->tensorflow) (1.68.1)\n",
      "Requirement already satisfied: tensorboard<2.19,>=2.18 in c:\\users\\usuario\\appdata\\roaming\\python\\python311\\site-packages (from tensorflow-intel==2.18.0->tensorflow) (2.18.0)\n",
      "Requirement already satisfied: keras>=3.5.0 in c:\\users\\usuario\\appdata\\roaming\\python\\python311\\site-packages (from tensorflow-intel==2.18.0->tensorflow) (3.7.0)\n",
      "Requirement already satisfied: numpy<2.1.0,>=1.26.0 in c:\\users\\usuario\\appdata\\roaming\\python\\python311\\site-packages (from tensorflow-intel==2.18.0->tensorflow) (2.0.2)\n",
      "Requirement already satisfied: h5py>=3.11.0 in c:\\users\\usuario\\appdata\\roaming\\python\\python311\\site-packages (from tensorflow-intel==2.18.0->tensorflow) (3.12.1)\n",
      "Requirement already satisfied: ml-dtypes<0.5.0,>=0.4.0 in c:\\users\\usuario\\appdata\\roaming\\python\\python311\\site-packages (from tensorflow-intel==2.18.0->tensorflow) (0.4.1)\n",
      "Requirement already satisfied: tensorflow-io-gcs-filesystem>=0.23.1 in c:\\users\\usuario\\appdata\\roaming\\python\\python311\\site-packages (from tensorflow-intel==2.18.0->tensorflow) (0.31.0)\n",
      "Collecting python_version>\"3.7\" (from tensorflow-gpu)\n",
      "  Using cached python_version-0.0.2-py2.py3-none-any.whl.metadata (1.7 kB)\n",
      "Requirement already satisfied: contourpy>=1.0.1 in c:\\users\\usuario\\appdata\\roaming\\python\\python311\\site-packages (from matplotlib) (1.3.1)\n",
      "Requirement already satisfied: cycler>=0.10 in c:\\users\\usuario\\appdata\\roaming\\python\\python311\\site-packages (from matplotlib) (0.12.1)\n",
      "Requirement already satisfied: fonttools>=4.22.0 in c:\\users\\usuario\\appdata\\roaming\\python\\python311\\site-packages (from matplotlib) (4.55.1)\n",
      "Requirement already satisfied: kiwisolver>=1.3.1 in c:\\users\\usuario\\appdata\\roaming\\python\\python311\\site-packages (from matplotlib) (1.4.7)\n",
      "Requirement already satisfied: pillow>=8 in c:\\users\\usuario\\appdata\\roaming\\python\\python311\\site-packages (from matplotlib) (11.0.0)\n",
      "Requirement already satisfied: pyparsing>=2.3.1 in c:\\users\\usuario\\appdata\\roaming\\python\\python311\\site-packages (from matplotlib) (3.2.0)\n",
      "Requirement already satisfied: python-dateutil>=2.7 in c:\\users\\usuario\\appdata\\roaming\\python\\python311\\site-packages (from matplotlib) (2.9.0.post0)\n",
      "Requirement already satisfied: pytz>=2020.1 in c:\\users\\usuario\\appdata\\roaming\\python\\python311\\site-packages (from pandas) (2024.2)\n",
      "Requirement already satisfied: tzdata>=2022.7 in c:\\users\\usuario\\appdata\\roaming\\python\\python311\\site-packages (from pandas) (2024.2)\n",
      "Requirement already satisfied: wheel<1.0,>=0.23.0 in c:\\users\\usuario\\appdata\\roaming\\python\\python311\\site-packages (from astunparse>=1.6.0->tensorflow-intel==2.18.0->tensorflow) (0.45.1)\n",
      "Requirement already satisfied: rich in c:\\users\\usuario\\appdata\\roaming\\python\\python311\\site-packages (from keras>=3.5.0->tensorflow-intel==2.18.0->tensorflow) (13.9.4)\n",
      "Requirement already satisfied: namex in c:\\users\\usuario\\appdata\\roaming\\python\\python311\\site-packages (from keras>=3.5.0->tensorflow-intel==2.18.0->tensorflow) (0.0.8)\n",
      "Requirement already satisfied: optree in c:\\users\\usuario\\appdata\\roaming\\python\\python311\\site-packages (from keras>=3.5.0->tensorflow-intel==2.18.0->tensorflow) (0.13.1)\n",
      "Requirement already satisfied: charset-normalizer<4,>=2 in c:\\users\\usuario\\appdata\\roaming\\python\\python311\\site-packages (from requests<3,>=2.21.0->tensorflow-intel==2.18.0->tensorflow) (3.4.0)\n",
      "Requirement already satisfied: idna<4,>=2.5 in c:\\users\\usuario\\appdata\\roaming\\python\\python311\\site-packages (from requests<3,>=2.21.0->tensorflow-intel==2.18.0->tensorflow) (3.10)\n",
      "Requirement already satisfied: urllib3<3,>=1.21.1 in c:\\users\\usuario\\appdata\\roaming\\python\\python311\\site-packages (from requests<3,>=2.21.0->tensorflow-intel==2.18.0->tensorflow) (2.2.3)\n",
      "Requirement already satisfied: certifi>=2017.4.17 in c:\\users\\usuario\\appdata\\roaming\\python\\python311\\site-packages (from requests<3,>=2.21.0->tensorflow-intel==2.18.0->tensorflow) (2024.8.30)\n",
      "Requirement already satisfied: markdown>=2.6.8 in c:\\users\\usuario\\appdata\\roaming\\python\\python311\\site-packages (from tensorboard<2.19,>=2.18->tensorflow-intel==2.18.0->tensorflow) (3.7)\n",
      "Requirement already satisfied: tensorboard-data-server<0.8.0,>=0.7.0 in c:\\users\\usuario\\appdata\\roaming\\python\\python311\\site-packages (from tensorboard<2.19,>=2.18->tensorflow-intel==2.18.0->tensorflow) (0.7.2)\n",
      "Requirement already satisfied: werkzeug>=1.0.1 in c:\\users\\usuario\\appdata\\roaming\\python\\python311\\site-packages (from tensorboard<2.19,>=2.18->tensorflow-intel==2.18.0->tensorflow) (3.1.3)\n",
      "Requirement already satisfied: MarkupSafe>=2.1.1 in c:\\users\\usuario\\appdata\\roaming\\python\\python311\\site-packages (from werkzeug>=1.0.1->tensorboard<2.19,>=2.18->tensorflow-intel==2.18.0->tensorflow) (3.0.2)\n",
      "Requirement already satisfied: markdown-it-py>=2.2.0 in c:\\users\\usuario\\appdata\\roaming\\python\\python311\\site-packages (from rich->keras>=3.5.0->tensorflow-intel==2.18.0->tensorflow) (3.0.0)\n",
      "Requirement already satisfied: pygments<3.0.0,>=2.13.0 in c:\\users\\usuario\\appdata\\roaming\\python\\python311\\site-packages (from rich->keras>=3.5.0->tensorflow-intel==2.18.0->tensorflow) (2.18.0)\n",
      "Requirement already satisfied: mdurl~=0.1 in c:\\users\\usuario\\appdata\\roaming\\python\\python311\\site-packages (from markdown-it-py>=2.2.0->rich->keras>=3.5.0->tensorflow-intel==2.18.0->tensorflow) (0.1.2)\n",
      "Using cached python_version-0.0.2-py2.py3-none-any.whl (3.4 kB)\n",
      "Building wheels for collected packages: tensorflow-gpu\n",
      "  Building wheel for tensorflow-gpu (setup.py): started\n",
      "  Building wheel for tensorflow-gpu (setup.py): finished with status 'error'\n",
      "  Running setup.py clean for tensorflow-gpu\n",
      "Failed to build tensorflow-gpu\n"
     ]
    },
    {
     "name": "stderr",
     "output_type": "stream",
     "text": [
      "  error: subprocess-exited-with-error\n",
      "  \n",
      "  × python setup.py bdist_wheel did not run successfully.\n",
      "  │ exit code: 1\n",
      "  ╰─> [18 lines of output]\n",
      "      Traceback (most recent call last):\n",
      "        File \"<string>\", line 2, in <module>\n",
      "        File \"<pip-setuptools-caller>\", line 34, in <module>\n",
      "        File \"C:\\Users\\Usuario\\AppData\\Local\\Temp\\pip-install-tcfod0cg\\tensorflow-gpu_e7305a3cd44c4eb597ae02e3a113f03f\\setup.py\", line 37, in <module>\n",
      "          raise Exception(TF_REMOVAL_WARNING)\n",
      "      Exception:\n",
      "      \n",
      "      =========================================================\n",
      "      The \"tensorflow-gpu\" package has been removed!\n",
      "      \n",
      "      Please install \"tensorflow\" instead.\n",
      "      \n",
      "      Other than the name, the two packages have been identical\n",
      "      since TensorFlow 2.1, or roughly since Sep 2019. For more\n",
      "      information, see: pypi.org/project/tensorflow-gpu\n",
      "      =========================================================\n",
      "      \n",
      "      \n",
      "      [end of output]\n",
      "  \n",
      "  note: This error originates from a subprocess, and is likely not a problem with pip.\n",
      "  ERROR: Failed building wheel for tensorflow-gpu\n",
      "ERROR: Could not build wheels for tensorflow-gpu, which is required to install pyproject.toml-based projects\n",
      "\n",
      "[notice] A new release of pip is available: 24.0 -> 24.3.1\n",
      "[notice] To update, run: python.exe -m pip install --upgrade pip\n"
     ]
    },
    {
     "name": "stdout",
     "output_type": "stream",
     "text": [
      "Defaulting to user installation because normal site-packages is not writeable\n",
      "Requirement already satisfied: opencv-python in c:\\users\\usuario\\appdata\\roaming\\python\\python311\\site-packages (4.10.0.84)\n",
      "Requirement already satisfied: numpy>=1.21.2 in c:\\users\\usuario\\appdata\\roaming\\python\\python311\\site-packages (from opencv-python) (2.0.2)\n",
      "Note: you may need to restart the kernel to use updated packages.\n"
     ]
    },
    {
     "name": "stderr",
     "output_type": "stream",
     "text": [
      "\n",
      "[notice] A new release of pip is available: 24.0 -> 24.3.1\n",
      "[notice] To update, run: python.exe -m pip install --upgrade pip\n"
     ]
    },
    {
     "name": "stdout",
     "output_type": "stream",
     "text": [
      "Package                      Version\n",
      "---------------------------- -----------\n",
      "absl-py                      2.1.0\n",
      "asttokens                    3.0.0\n",
      "astunparse                   1.6.3\n",
      "certifi                      2024.8.30\n",
      "charset-normalizer           3.4.0\n",
      "colorama                     0.4.6\n",
      "comm                         0.2.2\n",
      "contourpy                    1.3.1\n",
      "cycler                       0.12.1\n",
      "debugpy                      1.8.9\n",
      "decorator                    5.1.1\n",
      "executing                    2.1.0\n",
      "flatbuffers                  24.3.25\n",
      "fonttools                    4.55.1\n",
      "gast                         0.6.0\n",
      "google-pasta                 0.2.0\n",
      "grpcio                       1.68.1\n",
      "h5py                         3.12.1\n",
      "idna                         3.10\n",
      "ipykernel                    6.29.5\n",
      "ipython                      8.30.0\n",
      "jedi                         0.19.2\n",
      "joblib                       1.4.2\n",
      "jupyter_client               8.6.3\n",
      "jupyter_core                 5.7.2\n",
      "keras                        3.7.0\n",
      "kiwisolver                   1.4.7\n",
      "libclang                     18.1.1\n",
      "Markdown                     3.7\n",
      "markdown-it-py               3.0.0\n",
      "MarkupSafe                   3.0.2\n",
      "matplotlib                   3.9.3\n",
      "matplotlib-inline            0.1.7\n",
      "mdurl                        0.1.2\n",
      "ml-dtypes                    0.4.1\n",
      "namex                        0.0.8\n",
      "nest-asyncio                 1.6.0\n",
      "numpy                        2.0.2\n",
      "opencv-python                4.10.0.84\n",
      "opt_einsum                   3.4.0\n",
      "optree                       0.13.1\n",
      "packaging                    24.2\n",
      "pandas                       2.2.3\n",
      "parso                        0.8.4\n",
      "pillow                       11.0.0\n",
      "pip                          24.0\n",
      "platformdirs                 4.3.6\n",
      "prompt_toolkit               3.0.48\n",
      "protobuf                     5.29.0\n",
      "psutil                       6.1.0\n",
      "pure_eval                    0.2.3\n",
      "Pygments                     2.18.0\n",
      "pyparsing                    3.2.0\n",
      "python-dateutil              2.9.0.post0\n",
      "pytz                         2024.2\n",
      "pywin32                      308\n",
      "pyzmq                        26.2.0\n",
      "requests                     2.32.3\n",
      "rich                         13.9.4\n",
      "scikit-learn                 1.5.2\n",
      "scipy                        1.14.1\n",
      "seaborn                      0.13.2\n",
      "setuptools                   65.5.0\n",
      "six                          1.16.0\n",
      "stack-data                   0.6.3\n",
      "tensorboard                  2.18.0\n",
      "tensorboard-data-server      0.7.2\n",
      "tensorflow                   2.18.0\n",
      "tensorflow_intel             2.18.0\n",
      "tensorflow-io-gcs-filesystem 0.31.0\n",
      "termcolor                    2.5.0\n",
      "threadpoolctl                3.5.0\n",
      "tornado                      6.4.2\n",
      "traitlets                    5.14.3\n",
      "typing_extensions            4.12.2\n",
      "tzdata                       2024.2\n",
      "urllib3                      2.2.3\n",
      "wcwidth                      0.2.13\n",
      "Werkzeug                     3.1.3\n",
      "wheel                        0.45.1\n",
      "wrapt                        1.17.0\n",
      "Note: you may need to restart the kernel to use updated packages.\n"
     ]
    },
    {
     "name": "stderr",
     "output_type": "stream",
     "text": [
      "\n",
      "[notice] A new release of pip is available: 24.0 -> 24.3.1\n",
      "[notice] To update, run: python.exe -m pip install --upgrade pip\n"
     ]
    }
   ],
   "source": [
    "%pip install tensorflow tensorflow-gpu opencv-python matplotlib pandas\n",
    "%pip install opencv-python\n",
    "%pip list"
   ]
  },
  {
   "cell_type": "code",
   "execution_count": 222,
   "metadata": {},
   "outputs": [],
   "source": [
    "import tensorflow as tf\n",
    "import os\n",
    "import cv2\n",
    "import imghdr\n",
    "import numpy as np\n",
    "import pandas as pd\n",
    "from matplotlib import pyplot as plt\n",
    "from tensorflow.keras.models import Sequential\n",
    "from tensorflow.keras.layers import Conv2D, MaxPooling2D, Dense, Flatten, Dropout, BatchNormalization\n",
    "from tensorflow.keras.metrics import Precision, Recall, BinaryAccuracy\n",
    "from tensorflow.keras.models import load_model"
   ]
  },
  {
   "cell_type": "code",
   "execution_count": 223,
   "metadata": {},
   "outputs": [],
   "source": [
    "# Opcional"
   ]
  },
  {
   "cell_type": "code",
   "execution_count": 224,
   "metadata": {},
   "outputs": [],
   "source": [
    "gpus = tf.config.experimental.list_physical_devices('GPU')\n",
    "\n",
    "for gpu in gpus: \n",
    "    tf.config.experimental.set_memory_growth(gpu, True)"
   ]
  },
  {
   "cell_type": "markdown",
   "metadata": {},
   "source": [
    "# Exploración De Datos"
   ]
  },
  {
   "cell_type": "code",
   "execution_count": 225,
   "metadata": {},
   "outputs": [],
   "source": [
    "data_dir = 'data' "
   ]
  },
  {
   "cell_type": "code",
   "execution_count": 226,
   "metadata": {},
   "outputs": [
    {
     "data": {
      "text/plain": [
       "['happy', 'sad']"
      ]
     },
     "execution_count": 226,
     "metadata": {},
     "output_type": "execute_result"
    }
   ],
   "source": [
    "os.listdir(data_dir)"
   ]
  },
  {
   "cell_type": "code",
   "execution_count": 227,
   "metadata": {},
   "outputs": [
    {
     "data": {
      "text/plain": [
       "(48, 48, 3)"
      ]
     },
     "execution_count": 227,
     "metadata": {},
     "output_type": "execute_result"
    }
   ],
   "source": [
    "os.listdir(data_dir)\n",
    "os.listdir(os.path.join(data_dir, 'happy'))\n",
    "\n",
    "img = cv2.imread(os.path.join('data', 'happy', '7.jpg'))\n",
    "img.shape"
   ]
  },
  {
   "cell_type": "code",
   "execution_count": 228,
   "metadata": {},
   "outputs": [
    {
     "data": {
      "image/png": "[encoded data removed]",
      "text/plain": [
       "<Figure size 640x480 with 1 Axes>"
      ]
     },
     "metadata": {},
     "output_type": "display_data"
    }
   ],
   "source": [
    "img = cv2.imread('data/happy/7.jpg')\n",
    "plt.imshow(img)\n",
    "plt.show()"
   ]
  },
  {
   "cell_type": "code",
   "execution_count": 229,
   "metadata": {},
   "outputs": [],
   "source": [
    "image_exts = ['jpeg','jpg', 'bmp', 'png']"
   ]
  },
  {
   "cell_type": "markdown",
   "metadata": {},
   "source": [
    "#  Limpieza De Datos"
   ]
  },
  {
   "cell_type": "code",
   "execution_count": 230,
   "metadata": {
    "tags": []
   },
   "outputs": [],
   "source": [
    "for image_class in os.listdir(data_dir): \n",
    "    for image in os.listdir(os.path.join(data_dir, image_class)):\n",
    "        image_path = os.path.join(data_dir, image_class, image)\n",
    "        try: \n",
    "            img = cv2.imread(image_path)\n",
    "            tip = imghdr.what(image_path)\n",
    "            if tip not in image_exts: \n",
    "                print('Image not in ext list {}'.format(image_path))\n",
    "                os.remove(image_path)\n",
    "        except Exception as e: \n",
    "            print('Issue with image {}'.format(image_path))\n",
    "            # os.remove(image_path)"
   ]
  },
  {
   "cell_type": "markdown",
   "metadata": {},
   "source": [
    "# Cargando Datos"
   ]
  },
  {
   "cell_type": "code",
   "execution_count": 231,
   "metadata": {},
   "outputs": [
    {
     "name": "stdout",
     "output_type": "stream",
     "text": [
      "Found 12102 files belonging to 2 classes.\n"
     ]
    }
   ],
   "source": [
    "data = tf.keras.utils.image_dataset_from_directory(\n",
    "    'data',\n",
    "    image_size=(48, 48),\n",
    "    batch_size=64 \n",
    ")"
   ]
  },
  {
   "cell_type": "code",
   "execution_count": 232,
   "metadata": {},
   "outputs": [
    {
     "data": {
      "text/plain": [
       "7164"
      ]
     },
     "execution_count": 232,
     "metadata": {},
     "output_type": "execute_result"
    }
   ],
   "source": [
    "len(os.listdir('data/happy'))"
   ]
  },
  {
   "cell_type": "code",
   "execution_count": 233,
   "metadata": {},
   "outputs": [
    {
     "data": {
      "text/plain": [
       "4938"
      ]
     },
     "execution_count": 233,
     "metadata": {},
     "output_type": "execute_result"
    }
   ],
   "source": [
    "len(os.listdir('data/sad'))"
   ]
  },
  {
   "cell_type": "code",
   "execution_count": 234,
   "metadata": {},
   "outputs": [
    {
     "data": {
      "image/png": "[encoded data removed]",
      "text/plain": [
       "<Figure size 640x480 with 1 Axes>"
      ]
     },
     "metadata": {},
     "output_type": "display_data"
    }
   ],
   "source": [
    "clases = ['Happy', 'Sad'] \n",
    "cantidades = [len(os.listdir('data/happy')), len(os.listdir('data/sad'))]\n",
    "colores = [\"#EE6055\", \"#60D394\"] \n",
    "\n",
    "indice_max = cantidades.index(max(cantidades)) \n",
    "desfase = [0] * len(cantidades) \n",
    "desfase[indice_max] = 0.1\n",
    "\n",
    "plt.pie(cantidades, labels=clases, autopct=lambda p: f'{p * sum(cantidades) / 100:.1f}', colors=colores, explode=desfase) \n",
    "plt.axis(\"equal\") \n",
    "plt.title(\"Cantidad de Imágenes por Clase\") \n",
    "plt.show()"
   ]
  },
  {
   "cell_type": "markdown",
   "metadata": {},
   "source": [
    "# Preparación De Datos"
   ]
  },
  {
   "cell_type": "code",
   "execution_count": 235,
   "metadata": {},
   "outputs": [
    {
     "name": "stdout",
     "output_type": "stream",
     "text": [
      "(64, 48, 48, 3)\n"
     ]
    }
   ],
   "source": [
    "for images, labels in data.take(1):\n",
    "    print(images.shape)"
   ]
  },
  {
   "cell_type": "code",
   "execution_count": 236,
   "metadata": {},
   "outputs": [
    {
     "name": "stdout",
     "output_type": "stream",
     "text": [
      "Img 1: 352.jpg\n",
      "Img 2: 12563.jpg\n",
      "Img 3: 14588.jpg\n",
      "Img 4: 2980.jpg\n",
      "Img 5: 15908.jpg\n"
     ]
    }
   ],
   "source": [
    "file_paths = data.file_paths[:5]\n",
    "for i, file_path in enumerate(file_paths): \n",
    "    print(f\"Img {i+1}: {os.path.basename(file_path)}\")"
   ]
  },
  {
   "cell_type": "code",
   "execution_count": 237,
   "metadata": {},
   "outputs": [
    {
     "name": "stdout",
     "output_type": "stream",
     "text": [
      "Epoch 1\n",
      "Img 1 - Clase: 1\n",
      "Img 2 - Clase: 0\n",
      "Img 3 - Clase: 0\n",
      "Img 4 - Clase: 0\n",
      "Img 5 - Clase: 1\n",
      "\n",
      "\n",
      "Epoch 2\n",
      "Img 1 - Clase: 1\n",
      "Img 2 - Clase: 1\n",
      "Img 3 - Clase: 1\n",
      "Img 4 - Clase: 1\n",
      "Img 5 - Clase: 1\n",
      "\n",
      "\n",
      "Epoch 3\n",
      "Img 1 - Clase: 0\n",
      "Img 2 - Clase: 0\n",
      "Img 3 - Clase: 0\n",
      "Img 4 - Clase: 1\n",
      "Img 5 - Clase: 1\n",
      "\n",
      "\n"
     ]
    }
   ],
   "source": [
    "for epoch in range(3):\n",
    "    print(f\"Epoch {epoch+1}\") \n",
    "    for images, labels in data.take(1): \n",
    "        for i in range(5): print(f\"Img {i+1} - Clase: {labels[i].numpy()}\") \n",
    "    print(\"\\n\")"
   ]
  },
  {
   "cell_type": "code",
   "execution_count": 238,
   "metadata": {},
   "outputs": [],
   "source": [
    "data_iterator = data.as_numpy_iterator()"
   ]
  },
  {
   "cell_type": "code",
   "execution_count": 292,
   "metadata": {
    "tags": []
   },
   "outputs": [
    {
     "data": {
      "text/plain": [
       "array([1, 0, 0, 0, 1, 1, 0, 1, 1, 0, 0, 0, 0, 0, 1, 0, 0, 0, 1, 1, 0, 0,\n",
       "       0, 1, 1, 0, 1, 0, 1, 1, 1, 0, 0, 1, 0, 0, 1, 0, 1, 0, 1, 0, 1, 1,\n",
       "       0, 0, 0, 0, 0, 1, 0, 0, 0, 0, 1, 0, 1, 1, 0, 0, 0, 0, 0, 1],\n",
       "      dtype=int32)"
      ]
     },
     "execution_count": 292,
     "metadata": {},
     "output_type": "execute_result"
    }
   ],
   "source": [
    "batch = data_iterator.next()\n",
    "batch[1]"
   ]
  },
  {
   "cell_type": "code",
   "execution_count": 240,
   "metadata": {},
   "outputs": [
    {
     "data": {
      "text/plain": [
       "(64, 48, 48, 3)"
      ]
     },
     "execution_count": 240,
     "metadata": {},
     "output_type": "execute_result"
    }
   ],
   "source": [
    "batch[0].shape"
   ]
  },
  {
   "cell_type": "code",
   "execution_count": 293,
   "metadata": {
    "tags": []
   },
   "outputs": [
    {
     "data": {
      "image/png": "[encoded data removed]",
      "text/plain": [
       "<Figure size 2000x2000 with 4 Axes>"
      ]
     },
     "metadata": {},
     "output_type": "display_data"
    }
   ],
   "source": [
    "fig, ax = plt.subplots(ncols=4, figsize=(20,20))\n",
    "for idx, img in enumerate(batch[0][:4]):\n",
    "    ax[idx].imshow(img.astype(int))\n",
    "    ax[idx].title.set_text(batch[1][idx])"
   ]
  },
  {
   "cell_type": "code",
   "execution_count": null,
   "metadata": {},
   "outputs": [],
   "source": [
    "# Clase 0 = Happy    |    Clase 1 = Sad"
   ]
  },
  {
   "cell_type": "markdown",
   "metadata": {},
   "source": [
    "# Escalado De Datos"
   ]
  },
  {
   "cell_type": "code",
   "execution_count": 1010,
   "metadata": {},
   "outputs": [
    {
     "data": {
      "text/plain": [
       "(TensorSpec(shape=(None, 48, 48, 3), dtype=tf.float32, name=None),\n",
       " TensorSpec(shape=(None,), dtype=tf.int32, name=None))"
      ]
     },
     "execution_count": 1010,
     "metadata": {},
     "output_type": "execute_result"
    }
   ],
   "source": [
    "data.element_spec"
   ]
  },
  {
   "cell_type": "code",
   "execution_count": 1011,
   "metadata": {},
   "outputs": [],
   "source": [
    "data = data.map(lambda x,y: (x/255, y))"
   ]
  },
  {
   "cell_type": "code",
   "execution_count": 1012,
   "metadata": {},
   "outputs": [
    {
     "data": {
      "text/plain": [
       "<_MapDataset element_spec=(TensorSpec(shape=(None, 48, 48, 3), dtype=tf.float32, name=None), TensorSpec(shape=(None,), dtype=tf.int32, name=None))>"
      ]
     },
     "execution_count": 1012,
     "metadata": {},
     "output_type": "execute_result"
    }
   ],
   "source": [
    "data"
   ]
  },
  {
   "cell_type": "code",
   "execution_count": 1013,
   "metadata": {},
   "outputs": [
    {
     "data": {
      "text/plain": [
       "(TensorSpec(shape=(None, 48, 48, 3), dtype=tf.float32, name=None),\n",
       " TensorSpec(shape=(None,), dtype=tf.int32, name=None))"
      ]
     },
     "execution_count": 1013,
     "metadata": {},
     "output_type": "execute_result"
    }
   ],
   "source": [
    "data.element_spec"
   ]
  },
  {
   "cell_type": "code",
   "execution_count": 1014,
   "metadata": {
    "scrolled": true,
    "tags": []
   },
   "outputs": [
    {
     "data": {
      "text/plain": [
       "(array([[[[0.29803923, 0.29803923, 0.29803923],\n",
       "          [0.3529412 , 0.3529412 , 0.3529412 ],\n",
       "          [0.34117648, 0.34117648, 0.34117648],\n",
       "          ...,\n",
       "          [0.56078434, 0.56078434, 0.56078434],\n",
       "          [0.6       , 0.6       , 0.6       ],\n",
       "          [0.6       , 0.6       , 0.6       ]],\n",
       " \n",
       "         [[0.24705882, 0.24705882, 0.24705882],\n",
       "          [0.30980393, 0.30980393, 0.30980393],\n",
       "          [0.3529412 , 0.3529412 , 0.3529412 ],\n",
       "          ...,\n",
       "          [0.5647059 , 0.5647059 , 0.5647059 ],\n",
       "          [0.5686275 , 0.5686275 , 0.5686275 ],\n",
       "          [0.5921569 , 0.5921569 , 0.5921569 ]],\n",
       " \n",
       "         [[0.30980393, 0.30980393, 0.30980393],\n",
       "          [0.27450982, 0.27450982, 0.27450982],\n",
       "          [0.36078432, 0.36078432, 0.36078432],\n",
       "          ...,\n",
       "          [0.58431375, 0.58431375, 0.58431375],\n",
       "          [0.56078434, 0.56078434, 0.56078434],\n",
       "          [0.5529412 , 0.5529412 , 0.5529412 ]],\n",
       " \n",
       "         ...,\n",
       " \n",
       "         [[0.6117647 , 0.6117647 , 0.6117647 ],\n",
       "          [0.5921569 , 0.5921569 , 0.5921569 ],\n",
       "          [0.5529412 , 0.5529412 , 0.5529412 ],\n",
       "          ...,\n",
       "          [0.22745098, 0.22745098, 0.22745098],\n",
       "          [0.2       , 0.2       , 0.2       ],\n",
       "          [0.1882353 , 0.1882353 , 0.1882353 ]],\n",
       " \n",
       "         [[0.62352943, 0.62352943, 0.62352943],\n",
       "          [0.6313726 , 0.6313726 , 0.6313726 ],\n",
       "          [0.62352943, 0.62352943, 0.62352943],\n",
       "          ...,\n",
       "          [0.28627452, 0.28627452, 0.28627452],\n",
       "          [0.28235295, 0.28235295, 0.28235295],\n",
       "          [0.2901961 , 0.2901961 , 0.2901961 ]],\n",
       " \n",
       "         [[0.6431373 , 0.6431373 , 0.6431373 ],\n",
       "          [0.6313726 , 0.6313726 , 0.6313726 ],\n",
       "          [0.61960787, 0.61960787, 0.61960787],\n",
       "          ...,\n",
       "          [0.4       , 0.4       , 0.4       ],\n",
       "          [0.36862746, 0.36862746, 0.36862746],\n",
       "          [0.34901962, 0.34901962, 0.34901962]]],\n",
       " \n",
       " \n",
       "        [[[0.10588235, 0.10588235, 0.10588235],\n",
       "          [0.0627451 , 0.0627451 , 0.0627451 ],\n",
       "          [0.04705882, 0.04705882, 0.04705882],\n",
       "          ...,\n",
       "          [0.15294118, 0.15294118, 0.15294118],\n",
       "          [0.22352941, 0.22352941, 0.22352941],\n",
       "          [0.21176471, 0.21176471, 0.21176471]],\n",
       " \n",
       "         [[0.09411765, 0.09411765, 0.09411765],\n",
       "          [0.07058824, 0.07058824, 0.07058824],\n",
       "          [0.19607843, 0.19607843, 0.19607843],\n",
       "          ...,\n",
       "          [0.18431373, 0.18431373, 0.18431373],\n",
       "          [0.16862746, 0.16862746, 0.16862746],\n",
       "          [0.1882353 , 0.1882353 , 0.1882353 ]],\n",
       " \n",
       "         [[0.06666667, 0.06666667, 0.06666667],\n",
       "          [0.13333334, 0.13333334, 0.13333334],\n",
       "          [0.3019608 , 0.3019608 , 0.3019608 ],\n",
       "          ...,\n",
       "          [0.18039216, 0.18039216, 0.18039216],\n",
       "          [0.19215687, 0.19215687, 0.19215687],\n",
       "          [0.13725491, 0.13725491, 0.13725491]],\n",
       " \n",
       "         ...,\n",
       " \n",
       "         [[0.94509804, 0.94509804, 0.94509804],\n",
       "          [0.7019608 , 0.7019608 , 0.7019608 ],\n",
       "          [0.5058824 , 0.5058824 , 0.5058824 ],\n",
       "          ...,\n",
       "          [0.93333334, 0.93333334, 0.93333334],\n",
       "          [0.9254902 , 0.9254902 , 0.9254902 ],\n",
       "          [0.91764706, 0.91764706, 0.91764706]],\n",
       " \n",
       "         [[0.9254902 , 0.9254902 , 0.9254902 ],\n",
       "          [0.72156864, 0.72156864, 0.72156864],\n",
       "          [0.5411765 , 0.5411765 , 0.5411765 ],\n",
       "          ...,\n",
       "          [0.92941177, 0.92941177, 0.92941177],\n",
       "          [0.9254902 , 0.9254902 , 0.9254902 ],\n",
       "          [0.91764706, 0.91764706, 0.91764706]],\n",
       " \n",
       "         [[0.91764706, 0.91764706, 0.91764706],\n",
       "          [0.7254902 , 0.7254902 , 0.7254902 ],\n",
       "          [0.5372549 , 0.5372549 , 0.5372549 ],\n",
       "          ...,\n",
       "          [0.92941177, 0.92941177, 0.92941177],\n",
       "          [0.9254902 , 0.9254902 , 0.9254902 ],\n",
       "          [0.92156863, 0.92156863, 0.92156863]]],\n",
       " \n",
       " \n",
       "        [[[0.17254902, 0.17254902, 0.17254902],\n",
       "          [0.23921569, 0.23921569, 0.23921569],\n",
       "          [0.15686275, 0.15686275, 0.15686275],\n",
       "          ...,\n",
       "          [0.03529412, 0.03529412, 0.03529412],\n",
       "          [0.21568628, 0.21568628, 0.21568628],\n",
       "          [0.4627451 , 0.4627451 , 0.4627451 ]],\n",
       " \n",
       "         [[0.16078432, 0.16078432, 0.16078432],\n",
       "          [0.22745098, 0.22745098, 0.22745098],\n",
       "          [0.14901961, 0.14901961, 0.14901961],\n",
       "          ...,\n",
       "          [0.03921569, 0.03921569, 0.03921569],\n",
       "          [0.13725491, 0.13725491, 0.13725491],\n",
       "          [0.43137255, 0.43137255, 0.43137255]],\n",
       " \n",
       "         [[0.17254902, 0.17254902, 0.17254902],\n",
       "          [0.20784314, 0.20784314, 0.20784314],\n",
       "          [0.12941177, 0.12941177, 0.12941177],\n",
       "          ...,\n",
       "          [0.05490196, 0.05490196, 0.05490196],\n",
       "          [0.05882353, 0.05882353, 0.05882353],\n",
       "          [0.34901962, 0.34901962, 0.34901962]],\n",
       " \n",
       "         ...,\n",
       " \n",
       "         [[0.12941177, 0.12941177, 0.12941177],\n",
       "          [0.18039216, 0.18039216, 0.18039216],\n",
       "          [0.09019608, 0.09019608, 0.09019608],\n",
       "          ...,\n",
       "          [0.15294118, 0.15294118, 0.15294118],\n",
       "          [0.1254902 , 0.1254902 , 0.1254902 ],\n",
       "          [0.14509805, 0.14509805, 0.14509805]],\n",
       " \n",
       "         [[0.13333334, 0.13333334, 0.13333334],\n",
       "          [0.07843138, 0.07843138, 0.07843138],\n",
       "          [0.03921569, 0.03921569, 0.03921569],\n",
       "          ...,\n",
       "          [0.14509805, 0.14509805, 0.14509805],\n",
       "          [0.11372549, 0.11372549, 0.11372549],\n",
       "          [0.14117648, 0.14117648, 0.14117648]],\n",
       " \n",
       "         [[0.0627451 , 0.0627451 , 0.0627451 ],\n",
       "          [0.02352941, 0.02352941, 0.02352941],\n",
       "          [0.03137255, 0.03137255, 0.03137255],\n",
       "          ...,\n",
       "          [0.14901961, 0.14901961, 0.14901961],\n",
       "          [0.13333334, 0.13333334, 0.13333334],\n",
       "          [0.11764706, 0.11764706, 0.11764706]]],\n",
       " \n",
       " \n",
       "        ...,\n",
       " \n",
       " \n",
       "        [[[0.8901961 , 0.8901961 , 0.8901961 ],\n",
       "          [0.8980392 , 0.8980392 , 0.8980392 ],\n",
       "          [0.9019608 , 0.9019608 , 0.9019608 ],\n",
       "          ...,\n",
       "          [0.18039216, 0.18039216, 0.18039216],\n",
       "          [0.14509805, 0.14509805, 0.14509805],\n",
       "          [0.16078432, 0.16078432, 0.16078432]],\n",
       " \n",
       "         [[0.8980392 , 0.8980392 , 0.8980392 ],\n",
       "          [0.8980392 , 0.8980392 , 0.8980392 ],\n",
       "          [0.9019608 , 0.9019608 , 0.9019608 ],\n",
       "          ...,\n",
       "          [0.15294118, 0.15294118, 0.15294118],\n",
       "          [0.15686275, 0.15686275, 0.15686275],\n",
       "          [0.14901961, 0.14901961, 0.14901961]],\n",
       " \n",
       "         [[0.90588236, 0.90588236, 0.90588236],\n",
       "          [0.8980392 , 0.8980392 , 0.8980392 ],\n",
       "          [0.8980392 , 0.8980392 , 0.8980392 ],\n",
       "          ...,\n",
       "          [0.16470589, 0.16470589, 0.16470589],\n",
       "          [0.16862746, 0.16862746, 0.16862746],\n",
       "          [0.17254902, 0.17254902, 0.17254902]],\n",
       " \n",
       "         ...,\n",
       " \n",
       "         [[0.8666667 , 0.8666667 , 0.8666667 ],\n",
       "          [0.8784314 , 0.8784314 , 0.8784314 ],\n",
       "          [0.89411765, 0.89411765, 0.89411765],\n",
       "          ...,\n",
       "          [0.09019608, 0.09019608, 0.09019608],\n",
       "          [0.05882353, 0.05882353, 0.05882353],\n",
       "          [0.06666667, 0.06666667, 0.06666667]],\n",
       " \n",
       "         [[0.84313726, 0.84313726, 0.84313726],\n",
       "          [0.84705883, 0.84705883, 0.84705883],\n",
       "          [0.87058824, 0.87058824, 0.87058824],\n",
       "          ...,\n",
       "          [0.10588235, 0.10588235, 0.10588235],\n",
       "          [0.07058824, 0.07058824, 0.07058824],\n",
       "          [0.06666667, 0.06666667, 0.06666667]],\n",
       " \n",
       "         [[0.8627451 , 0.8627451 , 0.8627451 ],\n",
       "          [0.8235294 , 0.8235294 , 0.8235294 ],\n",
       "          [0.8117647 , 0.8117647 , 0.8117647 ],\n",
       "          ...,\n",
       "          [0.14509805, 0.14509805, 0.14509805],\n",
       "          [0.11372549, 0.11372549, 0.11372549],\n",
       "          [0.07058824, 0.07058824, 0.07058824]]],\n",
       " \n",
       " \n",
       "        [[[0.48235294, 0.48235294, 0.48235294],\n",
       "          [0.50980395, 0.50980395, 0.50980395],\n",
       "          [0.46666667, 0.46666667, 0.46666667],\n",
       "          ...,\n",
       "          [0.7764706 , 0.7764706 , 0.7764706 ],\n",
       "          [0.7607843 , 0.7607843 , 0.7607843 ],\n",
       "          [0.7882353 , 0.7882353 , 0.7882353 ]],\n",
       " \n",
       "         [[0.5176471 , 0.5176471 , 0.5176471 ],\n",
       "          [0.58431375, 0.58431375, 0.58431375],\n",
       "          [0.5882353 , 0.5882353 , 0.5882353 ],\n",
       "          ...,\n",
       "          [0.77254903, 0.77254903, 0.77254903],\n",
       "          [0.7882353 , 0.7882353 , 0.7882353 ],\n",
       "          [0.78431374, 0.78431374, 0.78431374]],\n",
       " \n",
       "         [[0.5882353 , 0.5882353 , 0.5882353 ],\n",
       "          [0.6509804 , 0.6509804 , 0.6509804 ],\n",
       "          [0.56078434, 0.56078434, 0.56078434],\n",
       "          ...,\n",
       "          [0.78039217, 0.78039217, 0.78039217],\n",
       "          [0.78431374, 0.78431374, 0.78431374],\n",
       "          [0.8235294 , 0.8235294 , 0.8235294 ]],\n",
       " \n",
       "         ...,\n",
       " \n",
       "         [[0.03529412, 0.03529412, 0.03529412],\n",
       "          [0.03137255, 0.03137255, 0.03137255],\n",
       "          [0.03529412, 0.03529412, 0.03529412],\n",
       "          ...,\n",
       "          [0.7647059 , 0.7647059 , 0.7647059 ],\n",
       "          [0.79607844, 0.79607844, 0.79607844],\n",
       "          [0.8       , 0.8       , 0.8       ]],\n",
       " \n",
       "         [[0.03921569, 0.03921569, 0.03921569],\n",
       "          [0.03137255, 0.03137255, 0.03137255],\n",
       "          [0.03921569, 0.03921569, 0.03921569],\n",
       "          ...,\n",
       "          [0.76862746, 0.76862746, 0.76862746],\n",
       "          [0.79607844, 0.79607844, 0.79607844],\n",
       "          [0.80784315, 0.80784315, 0.80784315]],\n",
       " \n",
       "         [[0.03529412, 0.03529412, 0.03529412],\n",
       "          [0.03137255, 0.03137255, 0.03137255],\n",
       "          [0.04313726, 0.04313726, 0.04313726],\n",
       "          ...,\n",
       "          [0.7647059 , 0.7647059 , 0.7647059 ],\n",
       "          [0.78039217, 0.78039217, 0.78039217],\n",
       "          [0.8039216 , 0.8039216 , 0.8039216 ]]],\n",
       " \n",
       " \n",
       "        [[[0.5176471 , 0.5176471 , 0.5176471 ],\n",
       "          [0.43137255, 0.43137255, 0.43137255],\n",
       "          [0.34509805, 0.34509805, 0.34509805],\n",
       "          ...,\n",
       "          [0.5568628 , 0.5568628 , 0.5568628 ],\n",
       "          [0.5686275 , 0.5686275 , 0.5686275 ],\n",
       "          [0.53333336, 0.53333336, 0.53333336]],\n",
       " \n",
       "         [[0.45490196, 0.45490196, 0.45490196],\n",
       "          [0.39215687, 0.39215687, 0.39215687],\n",
       "          [0.30980393, 0.30980393, 0.30980393],\n",
       "          ...,\n",
       "          [0.5372549 , 0.5372549 , 0.5372549 ],\n",
       "          [0.54509807, 0.54509807, 0.54509807],\n",
       "          [0.58431375, 0.58431375, 0.58431375]],\n",
       " \n",
       "         [[0.42352942, 0.42352942, 0.42352942],\n",
       "          [0.29803923, 0.29803923, 0.29803923],\n",
       "          [0.30980393, 0.30980393, 0.30980393],\n",
       "          ...,\n",
       "          [0.5254902 , 0.5254902 , 0.5254902 ],\n",
       "          [0.50980395, 0.50980395, 0.50980395],\n",
       "          [0.5568628 , 0.5568628 , 0.5568628 ]],\n",
       " \n",
       "         ...,\n",
       " \n",
       "         [[0.8901961 , 0.8901961 , 0.8901961 ],\n",
       "          [0.87058824, 0.87058824, 0.87058824],\n",
       "          [0.80784315, 0.80784315, 0.80784315],\n",
       "          ...,\n",
       "          [1.        , 1.        , 1.        ],\n",
       "          [1.        , 1.        , 1.        ],\n",
       "          [1.        , 1.        , 1.        ]],\n",
       " \n",
       "         [[0.9882353 , 0.9882353 , 0.9882353 ],\n",
       "          [0.9529412 , 0.9529412 , 0.9529412 ],\n",
       "          [0.8862745 , 0.8862745 , 0.8862745 ],\n",
       "          ...,\n",
       "          [1.        , 1.        , 1.        ],\n",
       "          [1.        , 1.        , 1.        ],\n",
       "          [1.        , 1.        , 1.        ]],\n",
       " \n",
       "         [[0.99215686, 0.99215686, 0.99215686],\n",
       "          [0.9764706 , 0.9764706 , 0.9764706 ],\n",
       "          [0.9490196 , 0.9490196 , 0.9490196 ],\n",
       "          ...,\n",
       "          [1.        , 1.        , 1.        ],\n",
       "          [1.        , 1.        , 1.        ],\n",
       "          [1.        , 1.        , 1.        ]]]], dtype=float32),\n",
       " array([0, 1, 0, 0, 0, 0, 1, 0, 0, 1, 0, 1, 0, 1, 1, 0, 1, 0, 1, 1, 1, 1,\n",
       "        0, 0, 0, 0, 1, 0, 1, 0, 0, 0, 0, 1, 0, 1, 0, 0, 1, 0, 0, 1, 1, 1,\n",
       "        0, 0, 0, 1, 1, 0, 0, 0, 1, 0, 1, 1, 0, 1, 0, 0, 0, 0, 0, 0],\n",
       "       dtype=int32))"
      ]
     },
     "execution_count": 1014,
     "metadata": {},
     "output_type": "execute_result"
    }
   ],
   "source": [
    "data.as_numpy_iterator().next()"
   ]
  },
  {
   "cell_type": "markdown",
   "metadata": {},
   "source": [
    "# Division De Datos (Entrenamiento - Validación)"
   ]
  },
  {
   "cell_type": "code",
   "execution_count": 1087,
   "metadata": {},
   "outputs": [
    {
     "data": {
      "text/plain": [
       "190"
      ]
     },
     "execution_count": 1087,
     "metadata": {},
     "output_type": "execute_result"
    }
   ],
   "source": [
    "len(data)"
   ]
  },
  {
   "cell_type": "code",
   "execution_count": 1016,
   "metadata": {},
   "outputs": [],
   "source": [
    "train_size = int(len(data)*.7)\n",
    "val_size = int(len(data)*.2)\n",
    "test_size = int(len(data)*.1)"
   ]
  },
  {
   "cell_type": "code",
   "execution_count": 1088,
   "metadata": {},
   "outputs": [
    {
     "name": "stdout",
     "output_type": "stream",
     "text": [
      "Entrenamiento: 133 ||  Test: 19  ||  Validación:38\n"
     ]
    }
   ],
   "source": [
    "print(f'Entrenamiento: {train_size} ||  Test: {test_size}  ||  Validación:{val_size}')"
   ]
  },
  {
   "cell_type": "code",
   "execution_count": 1018,
   "metadata": {},
   "outputs": [],
   "source": [
    "train = data.take(train_size)\n",
    "val = data.skip(train_size).take(val_size)\n",
    "test = data.skip(train_size+val_size).take(test_size)"
   ]
  },
  {
   "cell_type": "markdown",
   "metadata": {},
   "source": [
    "# Modelo"
   ]
  },
  {
   "cell_type": "code",
   "execution_count": 1019,
   "metadata": {},
   "outputs": [
    {
     "data": {
      "text/plain": [
       "<_TakeDataset element_spec=(TensorSpec(shape=(None, 48, 48, 3), dtype=tf.float32, name=None), TensorSpec(shape=(None,), dtype=tf.int32, name=None))>"
      ]
     },
     "execution_count": 1019,
     "metadata": {},
     "output_type": "execute_result"
    }
   ],
   "source": [
    "train"
   ]
  },
  {
   "cell_type": "code",
   "execution_count": 42,
   "metadata": {},
   "outputs": [],
   "source": [
    "model = Sequential()"
   ]
  },
  {
   "cell_type": "code",
   "execution_count": null,
   "metadata": {},
   "outputs": [
    {
     "data": {
      "text/plain": [
       "\"# 6. Build Deep Learning Model (modificado con más Dropout)\\n\\nmodel.add(Conv2D(16, (3, 3), activation='relu', input_shape=(48, 48, 3)))\\nmodel.add(MaxPooling2D())\\nmodel.add(Dropout(0.25))  # Dropout\\nmodel.add(Conv2D(32, (3, 3), activation='relu'))\\nmodel.add(MaxPooling2D())\\nmodel.add(Flatten())\\nmodel.add(Dense(128, activation='relu'))\\nmodel.add(Dropout(0.5))  # Dropout\\nmodel.add(Dense(1, activation='sigmoid'))  # Capa de salida\\n\\n\""
      ]
     },
     "execution_count": 1022,
     "metadata": {},
     "output_type": "execute_result"
    }
   ],
   "source": [
    "\"\"\"# Modelo Prueba\n",
    "\n",
    "model.add(Conv2D(16, (3, 3), activation='relu', input_shape=(48, 48, 3)))\n",
    "model.add(MaxPooling2D())\n",
    "model.add(Dropout(0.25))  # Dropout\n",
    "model.add(Conv2D(32, (3, 3), activation='relu'))\n",
    "model.add(MaxPooling2D())\n",
    "model.add(Flatten())\n",
    "model.add(Dense(128, activation='relu'))\n",
    "model.add(Dropout(0.5))  # Dropout\n",
    "model.add(Dense(1, activation='sigmoid'))  # Capa de salida\n",
    "\n",
    "\"\"\""
   ]
  },
  {
   "cell_type": "code",
   "execution_count": null,
   "metadata": {},
   "outputs": [
    {
     "name": "stderr",
     "output_type": "stream",
     "text": [
      "C:\\Users\\Usuario\\AppData\\Roaming\\Python\\Python311\\site-packages\\keras\\src\\layers\\convolutional\\base_conv.py:107: UserWarning: Do not pass an `input_shape`/`input_dim` argument to a layer. When using Sequential models, prefer using an `Input(shape)` object as the first layer in the model instead.\n",
      "  super().__init__(activity_regularizer=activity_regularizer, **kwargs)\n"
     ]
    }
   ],
   "source": [
    "model = Sequential([\n",
    "    Conv2D(32, (3,3), activation='relu', padding='same', input_shape=(48,48,3)),\n",
    "    MaxPooling2D(),\n",
    "    Dropout(0.15),\n",
    "    \n",
    "    Conv2D(48, (3,3), activation='relu', padding='same'),\n",
    "    MaxPooling2D(),\n",
    "    Dropout(0.1),\n",
    "    \n",
    "    Conv2D(64, (3,3), activation='relu', padding='same'),\n",
    "    MaxPooling2D(),\n",
    "    Dropout(0.1),\n",
    "    \n",
    "    Flatten(),\n",
    "    \n",
    "    Dense(384, activation='relu'),\n",
    "    Dropout(0.3),\n",
    "    Dense(1, activation='sigmoid')\n",
    "])"
   ]
  },
  {
   "cell_type": "code",
   "execution_count": null,
   "metadata": {},
   "outputs": [],
   "source": [
    "Valores después de la convolución:\n",
    "[\n",
    "  [1.2  -0.5  0.8]\n",
    "  [-0.3  2.1  0.4]\n",
    "  [0.6   1.5  1.1]\n",
    "]\n",
    "\n",
    "Después de ReLU:\n",
    "[\n",
    "  [1.2  0.0  0.8]\n",
    "  [0.0  2.1  0.4]\n",
    "  [0.6  1.5  1.1]\n",
    "]\n",
    "\n",
    "Después de MaxPooling:\n",
    "[\n",
    "  [2.1  0.8]\n",
    "  [1.5  1.1]\n",
    "]"
   ]
  },
  {
   "cell_type": "code",
   "execution_count": null,
   "metadata": {},
   "outputs": [
    {
     "data": {
      "text/plain": [
       "\"model.add(Conv2D(16, (3,3), 1, activation='relu', input_shape=(48,48,3)))\\nmodel.add(MaxPooling2D())\\nmodel.add(Conv2D(32, (3,3), 1, activation='relu'))\\nmodel.add(MaxPooling2D())\\nmodel.add(Conv2D(16, (3,3), 1, activation='relu'))\\nmodel.add(MaxPooling2D())\\nmodel.add(Flatten())\\nmodel.add(Dense(256, activation='relu'))\\nmodel.add(Dropout(0.2))\\nmodel.add(Dense(1, activation='sigmoid'))\""
      ]
     },
     "execution_count": 1024,
     "metadata": {},
     "output_type": "execute_result"
    }
   ],
   "source": [
    "\"\"\" #Modelo Prueba #2\n",
    "\n",
    "model.add(Conv2D(16, (3,3), 1, activation='relu', input_shape=(48,48,3)))\n",
    "model.add(MaxPooling2D())\n",
    "model.add(Conv2D(32, (3,3), 1, activation='relu'))\n",
    "model.add(MaxPooling2D())\n",
    "model.add(Conv2D(16, (3,3), 1, activation='relu'))\n",
    "model.add(MaxPooling2D())\n",
    "model.add(Flatten())\n",
    "model.add(Dense(256, activation='relu'))\n",
    "model.add(Dropout(0.2))\n",
    "model.add(Dense(1, activation='sigmoid'))\"\"\""
   ]
  },
  {
   "cell_type": "code",
   "execution_count": 44,
   "metadata": {},
   "outputs": [],
   "source": [
    "model.compile('adam', loss=tf.losses.BinaryCrossentropy(), metrics=['accuracy'])"
   ]
  },
  {
   "cell_type": "code",
   "execution_count": 45,
   "metadata": {
    "tags": []
   },
   "outputs": [
    {
     "data": {
      "text/html": [
       "<pre style=\"white-space:pre;overflow-x:auto;line-height:normal;font-family:Menlo,'DejaVu Sans Mono',consolas,'Courier New',monospace\"><span style=\"font-weight: bold\">Model: \"sequential_1\"</span>\n",
       "</pre>\n"
      ],
      "text/plain": [
       "\u001b[1mModel: \"sequential_1\"\u001b[0m\n"
      ]
     },
     "metadata": {},
     "output_type": "display_data"
    },
    {
     "data": {
      "text/html": [
       "<pre style=\"white-space:pre;overflow-x:auto;line-height:normal;font-family:Menlo,'DejaVu Sans Mono',consolas,'Courier New',monospace\">┏━━━━━━━━━━━━━━━━━━━━━━━━━━━━━━━━━┳━━━━━━━━━━━━━━━━━━━━━━━━┳━━━━━━━━━━━━━━━┓\n",
       "┃<span style=\"font-weight: bold\"> Layer (type)                    </span>┃<span style=\"font-weight: bold\"> Output Shape           </span>┃<span style=\"font-weight: bold\">       Param # </span>┃\n",
       "┡━━━━━━━━━━━━━━━━━━━━━━━━━━━━━━━━━╇━━━━━━━━━━━━━━━━━━━━━━━━╇━━━━━━━━━━━━━━━┩\n",
       "│ conv2d (<span style=\"color: #0087ff; text-decoration-color: #0087ff\">Conv2D</span>)                 │ (<span style=\"color: #00d7ff; text-decoration-color: #00d7ff\">None</span>, <span style=\"color: #00af00; text-decoration-color: #00af00\">48</span>, <span style=\"color: #00af00; text-decoration-color: #00af00\">48</span>, <span style=\"color: #00af00; text-decoration-color: #00af00\">32</span>)     │           <span style=\"color: #00af00; text-decoration-color: #00af00\">896</span> │\n",
       "├─────────────────────────────────┼────────────────────────┼───────────────┤\n",
       "│ max_pooling2d (<span style=\"color: #0087ff; text-decoration-color: #0087ff\">MaxPooling2D</span>)    │ (<span style=\"color: #00d7ff; text-decoration-color: #00d7ff\">None</span>, <span style=\"color: #00af00; text-decoration-color: #00af00\">24</span>, <span style=\"color: #00af00; text-decoration-color: #00af00\">24</span>, <span style=\"color: #00af00; text-decoration-color: #00af00\">32</span>)     │             <span style=\"color: #00af00; text-decoration-color: #00af00\">0</span> │\n",
       "├─────────────────────────────────┼────────────────────────┼───────────────┤\n",
       "│ dropout (<span style=\"color: #0087ff; text-decoration-color: #0087ff\">Dropout</span>)               │ (<span style=\"color: #00d7ff; text-decoration-color: #00d7ff\">None</span>, <span style=\"color: #00af00; text-decoration-color: #00af00\">24</span>, <span style=\"color: #00af00; text-decoration-color: #00af00\">24</span>, <span style=\"color: #00af00; text-decoration-color: #00af00\">32</span>)     │             <span style=\"color: #00af00; text-decoration-color: #00af00\">0</span> │\n",
       "├─────────────────────────────────┼────────────────────────┼───────────────┤\n",
       "│ conv2d_1 (<span style=\"color: #0087ff; text-decoration-color: #0087ff\">Conv2D</span>)               │ (<span style=\"color: #00d7ff; text-decoration-color: #00d7ff\">None</span>, <span style=\"color: #00af00; text-decoration-color: #00af00\">24</span>, <span style=\"color: #00af00; text-decoration-color: #00af00\">24</span>, <span style=\"color: #00af00; text-decoration-color: #00af00\">48</span>)     │        <span style=\"color: #00af00; text-decoration-color: #00af00\">13,872</span> │\n",
       "├─────────────────────────────────┼────────────────────────┼───────────────┤\n",
       "│ max_pooling2d_1 (<span style=\"color: #0087ff; text-decoration-color: #0087ff\">MaxPooling2D</span>)  │ (<span style=\"color: #00d7ff; text-decoration-color: #00d7ff\">None</span>, <span style=\"color: #00af00; text-decoration-color: #00af00\">12</span>, <span style=\"color: #00af00; text-decoration-color: #00af00\">12</span>, <span style=\"color: #00af00; text-decoration-color: #00af00\">48</span>)     │             <span style=\"color: #00af00; text-decoration-color: #00af00\">0</span> │\n",
       "├─────────────────────────────────┼────────────────────────┼───────────────┤\n",
       "│ dropout_1 (<span style=\"color: #0087ff; text-decoration-color: #0087ff\">Dropout</span>)             │ (<span style=\"color: #00d7ff; text-decoration-color: #00d7ff\">None</span>, <span style=\"color: #00af00; text-decoration-color: #00af00\">12</span>, <span style=\"color: #00af00; text-decoration-color: #00af00\">12</span>, <span style=\"color: #00af00; text-decoration-color: #00af00\">48</span>)     │             <span style=\"color: #00af00; text-decoration-color: #00af00\">0</span> │\n",
       "├─────────────────────────────────┼────────────────────────┼───────────────┤\n",
       "│ conv2d_2 (<span style=\"color: #0087ff; text-decoration-color: #0087ff\">Conv2D</span>)               │ (<span style=\"color: #00d7ff; text-decoration-color: #00d7ff\">None</span>, <span style=\"color: #00af00; text-decoration-color: #00af00\">12</span>, <span style=\"color: #00af00; text-decoration-color: #00af00\">12</span>, <span style=\"color: #00af00; text-decoration-color: #00af00\">64</span>)     │        <span style=\"color: #00af00; text-decoration-color: #00af00\">27,712</span> │\n",
       "├─────────────────────────────────┼────────────────────────┼───────────────┤\n",
       "│ max_pooling2d_2 (<span style=\"color: #0087ff; text-decoration-color: #0087ff\">MaxPooling2D</span>)  │ (<span style=\"color: #00d7ff; text-decoration-color: #00d7ff\">None</span>, <span style=\"color: #00af00; text-decoration-color: #00af00\">6</span>, <span style=\"color: #00af00; text-decoration-color: #00af00\">6</span>, <span style=\"color: #00af00; text-decoration-color: #00af00\">64</span>)       │             <span style=\"color: #00af00; text-decoration-color: #00af00\">0</span> │\n",
       "├─────────────────────────────────┼────────────────────────┼───────────────┤\n",
       "│ dropout_2 (<span style=\"color: #0087ff; text-decoration-color: #0087ff\">Dropout</span>)             │ (<span style=\"color: #00d7ff; text-decoration-color: #00d7ff\">None</span>, <span style=\"color: #00af00; text-decoration-color: #00af00\">6</span>, <span style=\"color: #00af00; text-decoration-color: #00af00\">6</span>, <span style=\"color: #00af00; text-decoration-color: #00af00\">64</span>)       │             <span style=\"color: #00af00; text-decoration-color: #00af00\">0</span> │\n",
       "├─────────────────────────────────┼────────────────────────┼───────────────┤\n",
       "│ flatten (<span style=\"color: #0087ff; text-decoration-color: #0087ff\">Flatten</span>)               │ (<span style=\"color: #00d7ff; text-decoration-color: #00d7ff\">None</span>, <span style=\"color: #00af00; text-decoration-color: #00af00\">2304</span>)           │             <span style=\"color: #00af00; text-decoration-color: #00af00\">0</span> │\n",
       "├─────────────────────────────────┼────────────────────────┼───────────────┤\n",
       "│ dense (<span style=\"color: #0087ff; text-decoration-color: #0087ff\">Dense</span>)                   │ (<span style=\"color: #00d7ff; text-decoration-color: #00d7ff\">None</span>, <span style=\"color: #00af00; text-decoration-color: #00af00\">384</span>)            │       <span style=\"color: #00af00; text-decoration-color: #00af00\">885,120</span> │\n",
       "├─────────────────────────────────┼────────────────────────┼───────────────┤\n",
       "│ dropout_3 (<span style=\"color: #0087ff; text-decoration-color: #0087ff\">Dropout</span>)             │ (<span style=\"color: #00d7ff; text-decoration-color: #00d7ff\">None</span>, <span style=\"color: #00af00; text-decoration-color: #00af00\">384</span>)            │             <span style=\"color: #00af00; text-decoration-color: #00af00\">0</span> │\n",
       "├─────────────────────────────────┼────────────────────────┼───────────────┤\n",
       "│ dense_1 (<span style=\"color: #0087ff; text-decoration-color: #0087ff\">Dense</span>)                 │ (<span style=\"color: #00d7ff; text-decoration-color: #00d7ff\">None</span>, <span style=\"color: #00af00; text-decoration-color: #00af00\">1</span>)              │           <span style=\"color: #00af00; text-decoration-color: #00af00\">385</span> │\n",
       "└─────────────────────────────────┴────────────────────────┴───────────────┘\n",
       "</pre>\n"
      ],
      "text/plain": [
       "┏━━━━━━━━━━━━━━━━━━━━━━━━━━━━━━━━━┳━━━━━━━━━━━━━━━━━━━━━━━━┳━━━━━━━━━━━━━━━┓\n",
       "┃\u001b[1m \u001b[0m\u001b[1mLayer (type)                   \u001b[0m\u001b[1m \u001b[0m┃\u001b[1m \u001b[0m\u001b[1mOutput Shape          \u001b[0m\u001b[1m \u001b[0m┃\u001b[1m \u001b[0m\u001b[1m      Param #\u001b[0m\u001b[1m \u001b[0m┃\n",
       "┡━━━━━━━━━━━━━━━━━━━━━━━━━━━━━━━━━╇━━━━━━━━━━━━━━━━━━━━━━━━╇━━━━━━━━━━━━━━━┩\n",
       "│ conv2d (\u001b[38;5;33mConv2D\u001b[0m)                 │ (\u001b[38;5;45mNone\u001b[0m, \u001b[38;5;34m48\u001b[0m, \u001b[38;5;34m48\u001b[0m, \u001b[38;5;34m32\u001b[0m)     │           \u001b[38;5;34m896\u001b[0m │\n",
       "├─────────────────────────────────┼────────────────────────┼───────────────┤\n",
       "│ max_pooling2d (\u001b[38;5;33mMaxPooling2D\u001b[0m)    │ (\u001b[38;5;45mNone\u001b[0m, \u001b[38;5;34m24\u001b[0m, \u001b[38;5;34m24\u001b[0m, \u001b[38;5;34m32\u001b[0m)     │             \u001b[38;5;34m0\u001b[0m │\n",
       "├─────────────────────────────────┼────────────────────────┼───────────────┤\n",
       "│ dropout (\u001b[38;5;33mDropout\u001b[0m)               │ (\u001b[38;5;45mNone\u001b[0m, \u001b[38;5;34m24\u001b[0m, \u001b[38;5;34m24\u001b[0m, \u001b[38;5;34m32\u001b[0m)     │             \u001b[38;5;34m0\u001b[0m │\n",
       "├─────────────────────────────────┼────────────────────────┼───────────────┤\n",
       "│ conv2d_1 (\u001b[38;5;33mConv2D\u001b[0m)               │ (\u001b[38;5;45mNone\u001b[0m, \u001b[38;5;34m24\u001b[0m, \u001b[38;5;34m24\u001b[0m, \u001b[38;5;34m48\u001b[0m)     │        \u001b[38;5;34m13,872\u001b[0m │\n",
       "├─────────────────────────────────┼────────────────────────┼───────────────┤\n",
       "│ max_pooling2d_1 (\u001b[38;5;33mMaxPooling2D\u001b[0m)  │ (\u001b[38;5;45mNone\u001b[0m, \u001b[38;5;34m12\u001b[0m, \u001b[38;5;34m12\u001b[0m, \u001b[38;5;34m48\u001b[0m)     │             \u001b[38;5;34m0\u001b[0m │\n",
       "├─────────────────────────────────┼────────────────────────┼───────────────┤\n",
       "│ dropout_1 (\u001b[38;5;33mDropout\u001b[0m)             │ (\u001b[38;5;45mNone\u001b[0m, \u001b[38;5;34m12\u001b[0m, \u001b[38;5;34m12\u001b[0m, \u001b[38;5;34m48\u001b[0m)     │             \u001b[38;5;34m0\u001b[0m │\n",
       "├─────────────────────────────────┼────────────────────────┼───────────────┤\n",
       "│ conv2d_2 (\u001b[38;5;33mConv2D\u001b[0m)               │ (\u001b[38;5;45mNone\u001b[0m, \u001b[38;5;34m12\u001b[0m, \u001b[38;5;34m12\u001b[0m, \u001b[38;5;34m64\u001b[0m)     │        \u001b[38;5;34m27,712\u001b[0m │\n",
       "├─────────────────────────────────┼────────────────────────┼───────────────┤\n",
       "│ max_pooling2d_2 (\u001b[38;5;33mMaxPooling2D\u001b[0m)  │ (\u001b[38;5;45mNone\u001b[0m, \u001b[38;5;34m6\u001b[0m, \u001b[38;5;34m6\u001b[0m, \u001b[38;5;34m64\u001b[0m)       │             \u001b[38;5;34m0\u001b[0m │\n",
       "├─────────────────────────────────┼────────────────────────┼───────────────┤\n",
       "│ dropout_2 (\u001b[38;5;33mDropout\u001b[0m)             │ (\u001b[38;5;45mNone\u001b[0m, \u001b[38;5;34m6\u001b[0m, \u001b[38;5;34m6\u001b[0m, \u001b[38;5;34m64\u001b[0m)       │             \u001b[38;5;34m0\u001b[0m │\n",
       "├─────────────────────────────────┼────────────────────────┼───────────────┤\n",
       "│ flatten (\u001b[38;5;33mFlatten\u001b[0m)               │ (\u001b[38;5;45mNone\u001b[0m, \u001b[38;5;34m2304\u001b[0m)           │             \u001b[38;5;34m0\u001b[0m │\n",
       "├─────────────────────────────────┼────────────────────────┼───────────────┤\n",
       "│ dense (\u001b[38;5;33mDense\u001b[0m)                   │ (\u001b[38;5;45mNone\u001b[0m, \u001b[38;5;34m384\u001b[0m)            │       \u001b[38;5;34m885,120\u001b[0m │\n",
       "├─────────────────────────────────┼────────────────────────┼───────────────┤\n",
       "│ dropout_3 (\u001b[38;5;33mDropout\u001b[0m)             │ (\u001b[38;5;45mNone\u001b[0m, \u001b[38;5;34m384\u001b[0m)            │             \u001b[38;5;34m0\u001b[0m │\n",
       "├─────────────────────────────────┼────────────────────────┼───────────────┤\n",
       "│ dense_1 (\u001b[38;5;33mDense\u001b[0m)                 │ (\u001b[38;5;45mNone\u001b[0m, \u001b[38;5;34m1\u001b[0m)              │           \u001b[38;5;34m385\u001b[0m │\n",
       "└─────────────────────────────────┴────────────────────────┴───────────────┘\n"
      ]
     },
     "metadata": {},
     "output_type": "display_data"
    },
    {
     "data": {
      "text/html": [
       "<pre style=\"white-space:pre;overflow-x:auto;line-height:normal;font-family:Menlo,'DejaVu Sans Mono',consolas,'Courier New',monospace\"><span style=\"font-weight: bold\"> Total params: </span><span style=\"color: #00af00; text-decoration-color: #00af00\">927,985</span> (3.54 MB)\n",
       "</pre>\n"
      ],
      "text/plain": [
       "\u001b[1m Total params: \u001b[0m\u001b[38;5;34m927,985\u001b[0m (3.54 MB)\n"
      ]
     },
     "metadata": {},
     "output_type": "display_data"
    },
    {
     "data": {
      "text/html": [
       "<pre style=\"white-space:pre;overflow-x:auto;line-height:normal;font-family:Menlo,'DejaVu Sans Mono',consolas,'Courier New',monospace\"><span style=\"font-weight: bold\"> Trainable params: </span><span style=\"color: #00af00; text-decoration-color: #00af00\">927,985</span> (3.54 MB)\n",
       "</pre>\n"
      ],
      "text/plain": [
       "\u001b[1m Trainable params: \u001b[0m\u001b[38;5;34m927,985\u001b[0m (3.54 MB)\n"
      ]
     },
     "metadata": {},
     "output_type": "display_data"
    },
    {
     "data": {
      "text/html": [
       "<pre style=\"white-space:pre;overflow-x:auto;line-height:normal;font-family:Menlo,'DejaVu Sans Mono',consolas,'Courier New',monospace\"><span style=\"font-weight: bold\"> Non-trainable params: </span><span style=\"color: #00af00; text-decoration-color: #00af00\">0</span> (0.00 B)\n",
       "</pre>\n"
      ],
      "text/plain": [
       "\u001b[1m Non-trainable params: \u001b[0m\u001b[38;5;34m0\u001b[0m (0.00 B)\n"
      ]
     },
     "metadata": {},
     "output_type": "display_data"
    }
   ],
   "source": [
    "model.summary()"
   ]
  },
  {
   "cell_type": "markdown",
   "metadata": {},
   "source": [
    "# Entreno"
   ]
  },
  {
   "cell_type": "code",
   "execution_count": 1027,
   "metadata": {},
   "outputs": [],
   "source": [
    "logdir='logs'"
   ]
  },
  {
   "cell_type": "code",
   "execution_count": 1028,
   "metadata": {},
   "outputs": [],
   "source": [
    "tensorboard_callback = tf.keras.callbacks.TensorBoard(log_dir=logdir)"
   ]
  },
  {
   "cell_type": "code",
   "execution_count": 1029,
   "metadata": {},
   "outputs": [
    {
     "name": "stdout",
     "output_type": "stream",
     "text": [
      "Epoch 1/13\n",
      "\u001b[1m133/133\u001b[0m \u001b[32m━━━━━━━━━━━━━━━━━━━━\u001b[0m\u001b[37m\u001b[0m \u001b[1m10s\u001b[0m 65ms/step - accuracy: 0.5731 - loss: 0.6920 - val_accuracy: 0.6497 - val_loss: 0.6340\n",
      "Epoch 2/13\n",
      "\u001b[1m133/133\u001b[0m \u001b[32m━━━━━━━━━━━━━━━━━━━━\u001b[0m\u001b[37m\u001b[0m \u001b[1m8s\u001b[0m 61ms/step - accuracy: 0.6409 - loss: 0.6322 - val_accuracy: 0.7072 - val_loss: 0.5667\n",
      "Epoch 3/13\n",
      "\u001b[1m133/133\u001b[0m \u001b[32m━━━━━━━━━━━━━━━━━━━━\u001b[0m\u001b[37m\u001b[0m \u001b[1m9s\u001b[0m 64ms/step - accuracy: 0.7280 - loss: 0.5415 - val_accuracy: 0.7780 - val_loss: 0.4760\n",
      "Epoch 4/13\n",
      "\u001b[1m133/133\u001b[0m \u001b[32m━━━━━━━━━━━━━━━━━━━━\u001b[0m\u001b[37m\u001b[0m \u001b[1m9s\u001b[0m 69ms/step - accuracy: 0.7667 - loss: 0.4780 - val_accuracy: 0.8030 - val_loss: 0.4310\n",
      "Epoch 5/13\n",
      "\u001b[1m133/133\u001b[0m \u001b[32m━━━━━━━━━━━━━━━━━━━━\u001b[0m\u001b[37m\u001b[0m \u001b[1m10s\u001b[0m 71ms/step - accuracy: 0.7875 - loss: 0.4298 - val_accuracy: 0.8277 - val_loss: 0.3751\n",
      "Epoch 6/13\n",
      "\u001b[1m133/133\u001b[0m \u001b[32m━━━━━━━━━━━━━━━━━━━━\u001b[0m\u001b[37m\u001b[0m \u001b[1m10s\u001b[0m 72ms/step - accuracy: 0.8092 - loss: 0.4006 - val_accuracy: 0.8322 - val_loss: 0.3706\n",
      "Epoch 7/13\n",
      "\u001b[1m133/133\u001b[0m \u001b[32m━━━━━━━━━━━━━━━━━━━━\u001b[0m\u001b[37m\u001b[0m \u001b[1m9s\u001b[0m 68ms/step - accuracy: 0.8229 - loss: 0.3793 - val_accuracy: 0.8483 - val_loss: 0.3492\n",
      "Epoch 8/13\n",
      "\u001b[1m133/133\u001b[0m \u001b[32m━━━━━━━━━━━━━━━━━━━━\u001b[0m\u001b[37m\u001b[0m \u001b[1m9s\u001b[0m 64ms/step - accuracy: 0.8381 - loss: 0.3538 - val_accuracy: 0.8462 - val_loss: 0.3489\n",
      "Epoch 9/13\n",
      "\u001b[1m133/133\u001b[0m \u001b[32m━━━━━━━━━━━━━━━━━━━━\u001b[0m\u001b[37m\u001b[0m \u001b[1m9s\u001b[0m 64ms/step - accuracy: 0.8503 - loss: 0.3411 - val_accuracy: 0.8586 - val_loss: 0.3208\n",
      "Epoch 10/13\n",
      "\u001b[1m133/133\u001b[0m \u001b[32m━━━━━━━━━━━━━━━━━━━━\u001b[0m\u001b[37m\u001b[0m \u001b[1m9s\u001b[0m 64ms/step - accuracy: 0.8640 - loss: 0.3024 - val_accuracy: 0.8544 - val_loss: 0.3239\n",
      "Epoch 11/13\n",
      "\u001b[1m133/133\u001b[0m \u001b[32m━━━━━━━━━━━━━━━━━━━━\u001b[0m\u001b[37m\u001b[0m \u001b[1m9s\u001b[0m 65ms/step - accuracy: 0.8763 - loss: 0.2844 - val_accuracy: 0.8655 - val_loss: 0.3058\n",
      "Epoch 12/13\n",
      "\u001b[1m133/133\u001b[0m \u001b[32m━━━━━━━━━━━━━━━━━━━━\u001b[0m\u001b[37m\u001b[0m \u001b[1m9s\u001b[0m 65ms/step - accuracy: 0.8856 - loss: 0.2672 - val_accuracy: 0.8779 - val_loss: 0.2908\n",
      "Epoch 13/13\n",
      "\u001b[1m133/133\u001b[0m \u001b[32m━━━━━━━━━━━━━━━━━━━━\u001b[0m\u001b[37m\u001b[0m \u001b[1m9s\u001b[0m 66ms/step - accuracy: 0.8943 - loss: 0.2460 - val_accuracy: 0.8586 - val_loss: 0.3079\n"
     ]
    }
   ],
   "source": [
    "hist = model.fit(train, epochs=13, validation_data=val, callbacks=[tensorboard_callback])"
   ]
  },
  {
   "cell_type": "code",
   "execution_count": null,
   "metadata": {},
   "outputs": [],
   "source": [
    "# Batch = 64    Data = 12102\n",
    "# CantBatches = Batch / Data = 190\n",
    "# Epoch = 13  \n",
    "# Actualizaciones = Cantbatches * Epoch = 2,470 "
   ]
  },
  {
   "cell_type": "markdown",
   "metadata": {},
   "source": [
    "# Rendimiento"
   ]
  },
  {
   "cell_type": "code",
   "execution_count": 1030,
   "metadata": {},
   "outputs": [
    {
     "data": {
      "text/plain": [
       "{'accuracy': [0.5912829041481018,\n",
       "  0.6684680581092834,\n",
       "  0.7413063645362854,\n",
       "  0.7732612490653992,\n",
       "  0.7904135584831238,\n",
       "  0.8109727501869202,\n",
       "  0.8246005773544312,\n",
       "  0.8422227501869202,\n",
       "  0.8552631735801697,\n",
       "  0.8639567494392395,\n",
       "  0.8740601539611816,\n",
       "  0.8861607313156128,\n",
       "  0.8950892686843872],\n",
       " 'loss': [0.6743834614753723,\n",
       "  0.6034873723983765,\n",
       "  0.5219405293464661,\n",
       "  0.46788835525512695,\n",
       "  0.4300330877304077,\n",
       "  0.4023628532886505,\n",
       "  0.380021870136261,\n",
       "  0.3502498269081116,\n",
       "  0.33043691515922546,\n",
       "  0.3030034303665161,\n",
       "  0.28449001908302307,\n",
       "  0.267213374376297,\n",
       "  0.24720090627670288],\n",
       " 'val_accuracy': [0.6496710777282715,\n",
       "  0.7072368264198303,\n",
       "  0.7779605388641357,\n",
       "  0.8030427694320679,\n",
       "  0.8277137875556946,\n",
       "  0.8322368264198303,\n",
       "  0.8482730388641357,\n",
       "  0.8462170958518982,\n",
       "  0.8585526347160339,\n",
       "  0.8544408082962036,\n",
       "  0.8655427694320679,\n",
       "  0.8778783082962036,\n",
       "  0.8585526347160339],\n",
       " 'val_loss': [0.6339910626411438,\n",
       "  0.5666679739952087,\n",
       "  0.47596022486686707,\n",
       "  0.43101048469543457,\n",
       "  0.37510186433792114,\n",
       "  0.37064072489738464,\n",
       "  0.3492114841938019,\n",
       "  0.3488708734512329,\n",
       "  0.3207629919052124,\n",
       "  0.3238954246044159,\n",
       "  0.30579185485839844,\n",
       "  0.29077282547950745,\n",
       "  0.3079175055027008]}"
      ]
     },
     "execution_count": 1030,
     "metadata": {},
     "output_type": "execute_result"
    }
   ],
   "source": [
    "hist.history"
   ]
  },
  {
   "cell_type": "code",
   "execution_count": 1031,
   "metadata": {},
   "outputs": [
    {
     "data": {
      "text/html": [
       "<div>\n",
       "<style scoped>\n",
       "    .dataframe tbody tr th:only-of-type {\n",
       "        vertical-align: middle;\n",
       "    }\n",
       "\n",
       "    .dataframe tbody tr th {\n",
       "        vertical-align: top;\n",
       "    }\n",
       "\n",
       "    .dataframe thead th {\n",
       "        text-align: right;\n",
       "    }\n",
       "</style>\n",
       "<table border=\"1\" class=\"dataframe\">\n",
       "  <thead>\n",
       "    <tr style=\"text-align: right;\">\n",
       "      <th></th>\n",
       "      <th>accuracy</th>\n",
       "      <th>loss</th>\n",
       "      <th>val_accuracy</th>\n",
       "      <th>val_loss</th>\n",
       "    </tr>\n",
       "  </thead>\n",
       "  <tbody>\n",
       "    <tr>\n",
       "      <th>0</th>\n",
       "      <td>0.591283</td>\n",
       "      <td>0.674383</td>\n",
       "      <td>0.649671</td>\n",
       "      <td>0.633991</td>\n",
       "    </tr>\n",
       "    <tr>\n",
       "      <th>1</th>\n",
       "      <td>0.668468</td>\n",
       "      <td>0.603487</td>\n",
       "      <td>0.707237</td>\n",
       "      <td>0.566668</td>\n",
       "    </tr>\n",
       "    <tr>\n",
       "      <th>2</th>\n",
       "      <td>0.741306</td>\n",
       "      <td>0.521941</td>\n",
       "      <td>0.777961</td>\n",
       "      <td>0.475960</td>\n",
       "    </tr>\n",
       "    <tr>\n",
       "      <th>3</th>\n",
       "      <td>0.773261</td>\n",
       "      <td>0.467888</td>\n",
       "      <td>0.803043</td>\n",
       "      <td>0.431010</td>\n",
       "    </tr>\n",
       "    <tr>\n",
       "      <th>4</th>\n",
       "      <td>0.790414</td>\n",
       "      <td>0.430033</td>\n",
       "      <td>0.827714</td>\n",
       "      <td>0.375102</td>\n",
       "    </tr>\n",
       "    <tr>\n",
       "      <th>5</th>\n",
       "      <td>0.810973</td>\n",
       "      <td>0.402363</td>\n",
       "      <td>0.832237</td>\n",
       "      <td>0.370641</td>\n",
       "    </tr>\n",
       "    <tr>\n",
       "      <th>6</th>\n",
       "      <td>0.824601</td>\n",
       "      <td>0.380022</td>\n",
       "      <td>0.848273</td>\n",
       "      <td>0.349211</td>\n",
       "    </tr>\n",
       "    <tr>\n",
       "      <th>7</th>\n",
       "      <td>0.842223</td>\n",
       "      <td>0.350250</td>\n",
       "      <td>0.846217</td>\n",
       "      <td>0.348871</td>\n",
       "    </tr>\n",
       "    <tr>\n",
       "      <th>8</th>\n",
       "      <td>0.855263</td>\n",
       "      <td>0.330437</td>\n",
       "      <td>0.858553</td>\n",
       "      <td>0.320763</td>\n",
       "    </tr>\n",
       "    <tr>\n",
       "      <th>9</th>\n",
       "      <td>0.863957</td>\n",
       "      <td>0.303003</td>\n",
       "      <td>0.854441</td>\n",
       "      <td>0.323895</td>\n",
       "    </tr>\n",
       "    <tr>\n",
       "      <th>10</th>\n",
       "      <td>0.874060</td>\n",
       "      <td>0.284490</td>\n",
       "      <td>0.865543</td>\n",
       "      <td>0.305792</td>\n",
       "    </tr>\n",
       "    <tr>\n",
       "      <th>11</th>\n",
       "      <td>0.886161</td>\n",
       "      <td>0.267213</td>\n",
       "      <td>0.877878</td>\n",
       "      <td>0.290773</td>\n",
       "    </tr>\n",
       "    <tr>\n",
       "      <th>12</th>\n",
       "      <td>0.895089</td>\n",
       "      <td>0.247201</td>\n",
       "      <td>0.858553</td>\n",
       "      <td>0.307918</td>\n",
       "    </tr>\n",
       "  </tbody>\n",
       "</table>\n",
       "</div>"
      ],
      "text/plain": [
       "    accuracy      loss  val_accuracy  val_loss\n",
       "0   0.591283  0.674383      0.649671  0.633991\n",
       "1   0.668468  0.603487      0.707237  0.566668\n",
       "2   0.741306  0.521941      0.777961  0.475960\n",
       "3   0.773261  0.467888      0.803043  0.431010\n",
       "4   0.790414  0.430033      0.827714  0.375102\n",
       "5   0.810973  0.402363      0.832237  0.370641\n",
       "6   0.824601  0.380022      0.848273  0.349211\n",
       "7   0.842223  0.350250      0.846217  0.348871\n",
       "8   0.855263  0.330437      0.858553  0.320763\n",
       "9   0.863957  0.303003      0.854441  0.323895\n",
       "10  0.874060  0.284490      0.865543  0.305792\n",
       "11  0.886161  0.267213      0.877878  0.290773\n",
       "12  0.895089  0.247201      0.858553  0.307918"
      ]
     },
     "execution_count": 1031,
     "metadata": {},
     "output_type": "execute_result"
    }
   ],
   "source": [
    "history_ = pd.DataFrame(hist.history)\n",
    "history_"
   ]
  },
  {
   "cell_type": "code",
   "execution_count": null,
   "metadata": {},
   "outputs": [
    {
     "data": {
      "image/png": "[encoded data removed]",
      "text/plain": [
       "<Figure size 1300x500 with 1 Axes>"
      ]
     },
     "metadata": {},
     "output_type": "display_data"
    }
   ],
   "source": [
    "plt.figure(figsize = (13, 5))\n",
    "plt.title(\"Accuracy vs Epochs\")\n",
    "plt.plot(hist.history['accuracy'], label = 'Train Accuracy')\n",
    "plt.plot(hist.history['val_accuracy'], label = 'Test Accuracy')\n",
    "plt.legend(loc = 'best')\n",
    "plt.show()"
   ]
  },
  {
   "cell_type": "code",
   "execution_count": 1032,
   "metadata": {},
   "outputs": [
    {
     "data": {
      "image/png": "[encoded data removed]",
      "text/plain": [
       "<Figure size 640x480 with 1 Axes>"
      ]
     },
     "metadata": {},
     "output_type": "display_data"
    }
   ],
   "source": [
    "fig = plt.figure()\n",
    "plt.plot(hist.history['loss'], color='teal', label='loss')\n",
    "plt.plot(hist.history['val_loss'], color='orange', label='val_loss')\n",
    "fig.suptitle('Loss', fontsize=20)\n",
    "plt.legend(loc=\"upper left\")\n",
    "plt.show()"
   ]
  },
  {
   "cell_type": "code",
   "execution_count": 1033,
   "metadata": {},
   "outputs": [
    {
     "data": {
      "image/png": "[encoded data removed]",
      "text/plain": [
       "<Figure size 640x480 with 1 Axes>"
      ]
     },
     "metadata": {},
     "output_type": "display_data"
    }
   ],
   "source": [
    "fig = plt.figure()\n",
    "plt.plot(hist.history['accuracy'], color='teal', label='accuracy')\n",
    "plt.plot(hist.history['val_accuracy'], color='orange', label='val_accuracy')\n",
    "fig.suptitle('Accuracy', fontsize=20)\n",
    "plt.legend(loc=\"upper left\")\n",
    "plt.show()"
   ]
  },
  {
   "cell_type": "markdown",
   "metadata": {},
   "source": [
    "# Evaluación"
   ]
  },
  {
   "cell_type": "code",
   "execution_count": 1034,
   "metadata": {},
   "outputs": [],
   "source": [
    "pre = Precision()\n",
    "re = Recall()\n",
    "acc = BinaryAccuracy()"
   ]
  },
  {
   "cell_type": "code",
   "execution_count": 1035,
   "metadata": {},
   "outputs": [
    {
     "name": "stdout",
     "output_type": "stream",
     "text": [
      "\u001b[1m2/2\u001b[0m \u001b[32m━━━━━━━━━━━━━━━━━━━━\u001b[0m\u001b[37m\u001b[0m \u001b[1m0s\u001b[0m 20ms/step\n",
      "\u001b[1m2/2\u001b[0m \u001b[32m━━━━━━━━━━━━━━━━━━━━\u001b[0m\u001b[37m\u001b[0m \u001b[1m0s\u001b[0m 19ms/step\n",
      "\u001b[1m2/2\u001b[0m \u001b[32m━━━━━━━━━━━━━━━━━━━━\u001b[0m\u001b[37m\u001b[0m \u001b[1m0s\u001b[0m 30ms/step\n",
      "\u001b[1m2/2\u001b[0m \u001b[32m━━━━━━━━━━━━━━━━━━━━\u001b[0m\u001b[37m\u001b[0m \u001b[1m0s\u001b[0m 16ms/step\n",
      "\u001b[1m2/2\u001b[0m \u001b[32m━━━━━━━━━━━━━━━━━━━━\u001b[0m\u001b[37m\u001b[0m \u001b[1m0s\u001b[0m 16ms/step\n",
      "\u001b[1m2/2\u001b[0m \u001b[32m━━━━━━━━━━━━━━━━━━━━\u001b[0m\u001b[37m\u001b[0m \u001b[1m0s\u001b[0m 26ms/step\n",
      "\u001b[1m2/2\u001b[0m \u001b[32m━━━━━━━━━━━━━━━━━━━━\u001b[0m\u001b[37m\u001b[0m \u001b[1m0s\u001b[0m 30ms/step\n",
      "\u001b[1m2/2\u001b[0m \u001b[32m━━━━━━━━━━━━━━━━━━━━\u001b[0m\u001b[37m\u001b[0m \u001b[1m0s\u001b[0m 28ms/step\n",
      "\u001b[1m2/2\u001b[0m \u001b[32m━━━━━━━━━━━━━━━━━━━━\u001b[0m\u001b[37m\u001b[0m \u001b[1m0s\u001b[0m 27ms/step\n",
      "\u001b[1m2/2\u001b[0m \u001b[32m━━━━━━━━━━━━━━━━━━━━\u001b[0m\u001b[37m\u001b[0m \u001b[1m0s\u001b[0m 24ms/step\n",
      "\u001b[1m2/2\u001b[0m \u001b[32m━━━━━━━━━━━━━━━━━━━━\u001b[0m\u001b[37m\u001b[0m \u001b[1m0s\u001b[0m 30ms/step\n",
      "\u001b[1m2/2\u001b[0m \u001b[32m━━━━━━━━━━━━━━━━━━━━\u001b[0m\u001b[37m\u001b[0m \u001b[1m0s\u001b[0m 23ms/step\n",
      "\u001b[1m2/2\u001b[0m \u001b[32m━━━━━━━━━━━━━━━━━━━━\u001b[0m\u001b[37m\u001b[0m \u001b[1m0s\u001b[0m 23ms/step\n",
      "\u001b[1m2/2\u001b[0m \u001b[32m━━━━━━━━━━━━━━━━━━━━\u001b[0m\u001b[37m\u001b[0m \u001b[1m0s\u001b[0m 19ms/step\n",
      "\u001b[1m2/2\u001b[0m \u001b[32m━━━━━━━━━━━━━━━━━━━━\u001b[0m\u001b[37m\u001b[0m \u001b[1m0s\u001b[0m 17ms/step\n",
      "\u001b[1m2/2\u001b[0m \u001b[32m━━━━━━━━━━━━━━━━━━━━\u001b[0m\u001b[37m\u001b[0m \u001b[1m0s\u001b[0m 32ms/step\n",
      "\u001b[1m2/2\u001b[0m \u001b[32m━━━━━━━━━━━━━━━━━━━━\u001b[0m\u001b[37m\u001b[0m \u001b[1m0s\u001b[0m 23ms/step\n",
      "\u001b[1m2/2\u001b[0m \u001b[32m━━━━━━━━━━━━━━━━━━━━\u001b[0m\u001b[37m\u001b[0m \u001b[1m0s\u001b[0m 30ms/step\n",
      "\u001b[1m1/1\u001b[0m \u001b[32m━━━━━━━━━━━━━━━━━━━━\u001b[0m\u001b[37m\u001b[0m \u001b[1m0s\u001b[0m 77ms/step\n"
     ]
    }
   ],
   "source": [
    "for batch in test.as_numpy_iterator(): \n",
    "    X, y = batch\n",
    "    yhat = model.predict(X)\n",
    "    pre.update_state(y, yhat)\n",
    "    re.update_state(y, yhat)\n",
    "    acc.update_state(y, yhat)"
   ]
  },
  {
   "cell_type": "code",
   "execution_count": 1036,
   "metadata": {},
   "outputs": [
    {
     "name": "stdout",
     "output_type": "stream",
     "text": [
      "Precision:0.8363228440284729, Recall: 0.7722567319869995, Acurrancy:0.8419688940048218\n"
     ]
    }
   ],
   "source": [
    "print(f'Precision:{ pre.result()}, Recall: {re.result()}, Acurrancy:{acc.result()}')"
   ]
  },
  {
   "cell_type": "code",
   "execution_count": 1037,
   "metadata": {},
   "outputs": [
    {
     "name": "stdout",
     "output_type": "stream",
     "text": [
      "\u001b[1m38/38\u001b[0m \u001b[32m━━━━━━━━━━━━━━━━━━━━\u001b[0m\u001b[37m\u001b[0m \u001b[1m2s\u001b[0m 24ms/step - accuracy: 0.8660 - loss: 0.2887\n",
      "Test Accuracy: 85.36%\n",
      "Test Loss: 0.3165888488292694\n"
     ]
    }
   ],
   "source": [
    "score = model.evaluate(val)\n",
    "print('Test Accuracy: {:.2f}%\\nTest Loss: {}'.format(score[1] * 100, score[0]))"
   ]
  },
  {
   "cell_type": "markdown",
   "metadata": {},
   "source": [
    "# Test"
   ]
  },
  {
   "cell_type": "code",
   "execution_count": null,
   "metadata": {},
   "outputs": [],
   "source": [
    "# Elegir img para test"
   ]
  },
  {
   "cell_type": "code",
   "execution_count": 39,
   "metadata": {},
   "outputs": [
    {
     "data": {
      "image/png": "[encoded data removed]",
      "text/plain": [
       "<Figure size 640x480 with 1 Axes>"
      ]
     },
     "metadata": {},
     "output_type": "display_data"
    }
   ],
   "source": [
    "img = cv2.imread('data/happy/35885.jpg')\n",
    "plt.imshow(img)\n",
    "plt.show()"
   ]
  },
  {
   "cell_type": "code",
   "execution_count": 40,
   "metadata": {},
   "outputs": [],
   "source": [
    "resize = tf.image.resize(img, (48, 48))\n",
    "resize = resize / 255.0"
   ]
  },
  {
   "cell_type": "code",
   "execution_count": 46,
   "metadata": {},
   "outputs": [
    {
     "name": "stdout",
     "output_type": "stream",
     "text": [
      "\u001b[1m1/1\u001b[0m \u001b[32m━━━━━━━━━━━━━━━━━━━━\u001b[0m\u001b[37m\u001b[0m \u001b[1m0s\u001b[0m 141ms/step\n"
     ]
    }
   ],
   "source": [
    "yhat = model.predict(np.expand_dims(resize, 0))"
   ]
  },
  {
   "cell_type": "code",
   "execution_count": 47,
   "metadata": {},
   "outputs": [
    {
     "data": {
      "text/plain": [
       "array([[0.4958438]], dtype=float32)"
      ]
     },
     "execution_count": 47,
     "metadata": {},
     "output_type": "execute_result"
    }
   ],
   "source": [
    "yhat"
   ]
  },
  {
   "cell_type": "code",
   "execution_count": 48,
   "metadata": {},
   "outputs": [
    {
     "name": "stdout",
     "output_type": "stream",
     "text": [
      "Prediccion de Clase: Happy ¦ Alegre\n"
     ]
    }
   ],
   "source": [
    "if yhat >= 0.5: \n",
    "    print(f'Prediccion de Clase: Sad ¦ Triste')\n",
    "else:\n",
    "    print(f'Prediccion de Clase: Happy ¦ Alegre')"
   ]
  },
  {
   "cell_type": "markdown",
   "metadata": {},
   "source": [
    "# Guardar Y Cargar Modelo"
   ]
  },
  {
   "cell_type": "code",
   "execution_count": null,
   "metadata": {},
   "outputs": [],
   "source": [
    "model.save(os.path.join('models','ImageClassifierTest.keras'))"
   ]
  },
  {
   "cell_type": "code",
   "execution_count": null,
   "metadata": {},
   "outputs": [],
   "source": [
    "# Una vez entrenado, ejecutar solo el segundo bloque de \"Requisitos\" y luego esto "
   ]
  },
  {
   "cell_type": "markdown",
   "metadata": {},
   "source": [
    "/Cargar Modelo Aquí/"
   ]
  },
  {
   "cell_type": "code",
   "execution_count": 246,
   "metadata": {},
   "outputs": [],
   "source": [
    "from tensorflow.keras.models import load_model\n",
    "import numpy as np\n",
    "import tensorflow as tf\n",
    "import cv2\n",
    "from matplotlib import pyplot as plt\n",
    "\n",
    "new_model = load_model('models/ModeloClasificacionv1.keras')"
   ]
  },
  {
   "cell_type": "code",
   "execution_count": 328,
   "metadata": {},
   "outputs": [],
   "source": [
    "img = cv2.imread('test/happy/PrivateTest_95094.jpg')"
   ]
  },
  {
   "cell_type": "code",
   "execution_count": 329,
   "metadata": {},
   "outputs": [
    {
     "name": "stdout",
     "output_type": "stream",
     "text": [
      "\u001b[1m1/1\u001b[0m \u001b[32m━━━━━━━━━━━━━━━━━━━━\u001b[0m\u001b[37m\u001b[0m \u001b[1m0s\u001b[0m 42ms/step\n"
     ]
    }
   ],
   "source": [
    "resize = tf.image.resize(img, (48, 48))\n",
    "resize = resize / 255.0\n",
    "yhat = new_model.predict(np.expand_dims(resize, 0))"
   ]
  },
  {
   "cell_type": "code",
   "execution_count": 330,
   "metadata": {},
   "outputs": [
    {
     "data": {
      "text/plain": [
       "array([[0.04765145]], dtype=float32)"
      ]
     },
     "execution_count": 330,
     "metadata": {},
     "output_type": "execute_result"
    }
   ],
   "source": [
    "yhat"
   ]
  },
  {
   "cell_type": "code",
   "execution_count": 331,
   "metadata": {},
   "outputs": [
    {
     "name": "stdout",
     "output_type": "stream",
     "text": [
      "Prediccion de Clase: Happy ¦ Alegre\n"
     ]
    }
   ],
   "source": [
    "if yhat > 0.53: \n",
    "    print(f'Prediccion de Clase: Sad ¦ Triste')\n",
    "else:\n",
    "    print(f'Prediccion de Clase: Happy ¦ Alegre')"
   ]
  },
  {
   "cell_type": "code",
   "execution_count": 332,
   "metadata": {},
   "outputs": [
    {
     "data": {
      "image/png": "[encoded data removed]",
      "text/plain": [
       "<Figure size 640x480 with 1 Axes>"
      ]
     },
     "metadata": {},
     "output_type": "display_data"
    }
   ],
   "source": [
    "plt.imshow(img)\n",
    "plt.show()"
   ]
  },
  {
   "cell_type": "code",
   "execution_count": 333,
   "metadata": {},
   "outputs": [
    {
     "data": {
      "image/png": "[encoded data removed]",
      "text/plain": [
       "<Figure size 640x480 with 1 Axes>"
      ]
     },
     "metadata": {},
     "output_type": "display_data"
    }
   ],
   "source": [
    "# Correccion de color en imagenes (No afecta aparte de lo visual)\n",
    "\n",
    "img = cv2.cvtColor(img, cv2.COLOR_BGR2RGB)\n",
    "plt.imshow(img)\n",
    "plt.show()"
   ]
  },
  {
   "cell_type": "markdown",
   "metadata": {},
   "source": [
    "# Historial De Pruebas"
   ]
  },
  {
   "cell_type": "code",
   "execution_count": 334,
   "metadata": {},
   "outputs": [],
   "source": [
    "# Guardamos la mayoria de entrenos hechos para consultarse y comparar si es necesario"
   ]
  },
  {
   "cell_type": "code",
   "execution_count": 335,
   "metadata": {},
   "outputs": [
    {
     "data": {
      "text/plain": [
       "{'images': [],\n",
       " 'audio': [],\n",
       " 'histograms': [],\n",
       " 'scalars': [],\n",
       " 'distributions': [],\n",
       " 'tensors': ['keras', 'epoch_accuracy', 'epoch_loss', 'epoch_learning_rate'],\n",
       " 'graph': False,\n",
       " 'meta_graph': False,\n",
       " 'run_metadata': []}"
      ]
     },
     "execution_count": 335,
     "metadata": {},
     "output_type": "execute_result"
    }
   ],
   "source": [
    "import tensorflow as tf\n",
    "from tensorboard.backend.event_processing import event_accumulator\n",
    "\n",
    "archivo_eventos = 'logs/train/events.out.tfevents.1733555733.LAPTOP-HSAJLOPC.16264.41.v2'\n",
    "\n",
    "event_acc = event_accumulator.EventAccumulator(archivo_eventos)\n",
    "event_acc.Reload()\n",
    "\n",
    "tags = event_acc.Tags()\n",
    "tags\n"
   ]
  },
  {
   "cell_type": "code",
   "execution_count": 336,
   "metadata": {},
   "outputs": [
    {
     "data": {
      "text/plain": [
       "[TensorEvent(wall_time=1733555751.252954, step=1, tensor_proto=dtype: DT_FLOAT\n",
       " tensor_shape {\n",
       " }\n",
       " tensor_content: \"&~\\032?\"\n",
       " ),\n",
       " TensorEvent(wall_time=1733555759.864986, step=2, tensor_proto=dtype: DT_FLOAT\n",
       " tensor_shape {\n",
       " }\n",
       " tensor_content: \"\\345\\235\\005?\"\n",
       " ),\n",
       " TensorEvent(wall_time=1733555769.07411, step=3, tensor_proto=dtype: DT_FLOAT\n",
       " tensor_shape {\n",
       " }\n",
       " tensor_content: \"\\020\\217\\357>\"\n",
       " ),\n",
       " TensorEvent(wall_time=1733555778.6143, step=4, tensor_proto=dtype: DT_FLOAT\n",
       " tensor_shape {\n",
       " }\n",
       " tensor_content: \"L-\\334>\"\n",
       " ),\n",
       " TensorEvent(wall_time=1733555788.246067, step=5, tensor_proto=dtype: DT_FLOAT\n",
       " tensor_shape {\n",
       " }\n",
       " tensor_content: \"\\201\\002\\316>\"\n",
       " ),\n",
       " TensorEvent(wall_time=1733555814.374854, step=8, tensor_proto=dtype: DT_FLOAT\n",
       " tensor_shape {\n",
       " }\n",
       " tensor_content: \"\\007/\\251>\"\n",
       " ),\n",
       " TensorEvent(wall_time=1733555822.986695, step=9, tensor_proto=dtype: DT_FLOAT\n",
       " tensor_shape {\n",
       " }\n",
       " tensor_content: \"D#\\233>\"\n",
       " ),\n",
       " TensorEvent(wall_time=1733555831.607252, step=10, tensor_proto=dtype: DT_FLOAT\n",
       " tensor_shape {\n",
       " }\n",
       " tensor_content: \"\\255\\250\\221>\"\n",
       " ),\n",
       " TensorEvent(wall_time=1733555840.301208, step=11, tensor_proto=dtype: DT_FLOAT\n",
       " tensor_shape {\n",
       " }\n",
       " tensor_content: \"1\\320\\210>\"\n",
       " ),\n",
       " TensorEvent(wall_time=1733555849.107617, step=12, tensor_proto=dtype: DT_FLOAT\n",
       " tensor_shape {\n",
       " }\n",
       " tensor_content: \"<\"}>\"\n",
       " )]"
      ]
     },
     "execution_count": 336,
     "metadata": {},
     "output_type": "execute_result"
    }
   ],
   "source": [
    "event_acc.Tensors('epoch_loss')"
   ]
  },
  {
   "cell_type": "code",
   "execution_count": 337,
   "metadata": {},
   "outputs": [
    {
     "name": "stdout",
     "output_type": "stream",
     "text": [
      "   step  accuracy      loss\n",
      "0     1  0.668468  0.603487\n",
      "1     2  0.741306  0.521941\n",
      "2     3  0.773261  0.467888\n",
      "3     4  0.790414  0.430033\n",
      "4     5  0.810973  0.402363\n",
      "5     8  0.855263  0.330437\n",
      "6     9  0.863957  0.303003\n",
      "7    10  0.874060  0.284490\n",
      "8    11  0.886161  0.267213\n",
      "9    12  0.895089  0.247201\n"
     ]
    }
   ],
   "source": [
    "accuracies = event_acc.Tensors('epoch_accuracy') \n",
    "losses = event_acc.Tensors('epoch_loss')\n",
    "\n",
    "import pandas as pd \n",
    "\n",
    "datos_entrenamiento = pd.DataFrame({ \n",
    "    'step': [e.step for e in accuracies], \n",
    "    'accuracy': [tf.make_ndarray(e.tensor_proto).item() for e in accuracies], \n",
    "    'loss': [tf.make_ndarray(e.tensor_proto).item() for e in losses] \n",
    "})\n",
    "\n",
    "print(datos_entrenamiento)"
   ]
  },
  {
   "cell_type": "code",
   "execution_count": 338,
   "metadata": {},
   "outputs": [
    {
     "data": {
      "image/png": "[encoded data removed]",
      "text/plain": [
       "<Figure size 1200x600 with 2 Axes>"
      ]
     },
     "metadata": {},
     "output_type": "display_data"
    }
   ],
   "source": [
    "import matplotlib.pyplot as plt\n",
    "\n",
    "steps = datos_entrenamiento['step']\n",
    "loss = datos_entrenamiento['loss']\n",
    "accuracy = datos_entrenamiento['accuracy']\n",
    "\n",
    "plt.figure(figsize=(12, 6))\n",
    "\n",
    "plt.subplot(1, 2, 1)\n",
    "plt.plot(steps, loss, color='blue', label='Loss')\n",
    "plt.xlabel('Step')\n",
    "plt.ylabel('Loss')\n",
    "plt.title('Pérdida durante el Entrenamiento')\n",
    "plt.legend()\n",
    "\n",
    "plt.subplot(1, 2, 2)\n",
    "plt.plot(steps, accuracy, color='green', label='Accuracy')\n",
    "plt.xlabel('Step')\n",
    "plt.ylabel('Accuracy')\n",
    "plt.title('Precisión durante el Entrenamiento')\n",
    "plt.legend()\n",
    "\n",
    "plt.tight_layout()\n",
    "plt.show()\n"
   ]
  }
 ],
 "metadata": {
  "kernelspec": {
   "display_name": "Python 3",
   "language": "python",
   "name": "python3"
  },
  "language_info": {
   "codemirror_mode": {
    "name": "ipython",
    "version": 3
   },
   "file_extension": ".py",
   "mimetype": "text/x-python",
   "name": "python",
   "nbconvert_exporter": "python",
   "pygments_lexer": "ipython3",
   "version": "3.11.9"
  }
 },
 "nbformat": 4,
 "nbformat_minor": 4
}
